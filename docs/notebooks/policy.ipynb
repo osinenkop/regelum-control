{
 "cells": [
  {
   "cell_type": "code",
   "execution_count": null,
   "metadata": {},
   "outputs": [],
   "source": [
    "from regelum.policy import Policy\n",
    "from regelum.system import KinematicPoint\n",
    "from regelum.utils import rg\n",
    "from regelum.scenario import Scenario\n",
    "from regelum.simulator import CasADi\n",
    "from regelum.callback import (\n",
    "    ScenarioStepLogger,\n",
    "    HistoricalDataCallback,\n",
    ")\n",
    "from regelum import set_jupyter_env\n",
    "%matplotlib inline"
   ]
  },
  {
   "cell_type": "code",
   "execution_count": null,
   "metadata": {},
   "outputs": [],
   "source": [
    "callbacks = [ScenarioStepLogger, HistoricalDataCallback]\n",
    "ScenarioStepLogger.cooldown = 0.1\n",
    "callbacks = set_jupyter_env(callbacks=callbacks, interactive=True)"
   ]
  },
  {
   "cell_type": "code",
   "execution_count": null,
   "metadata": {},
   "outputs": [],
   "source": [
    "class SimplePoplicy(Policy):\n",
    "    def __init__(self, system=KinematicPoint(), gain=0.2):\n",
    "        super().__init__(system=system)\n",
    "        self.gain = gain\n",
    "\n",
    "    def get_action(self, observation):\n",
    "        return -self.gain * observation\n",
    "\n",
    "\n",
    "policy = SimplePoplicy()\n",
    "system = KinematicPoint()"
   ]
  },
  {
   "cell_type": "code",
   "execution_count": null,
   "metadata": {},
   "outputs": [],
   "source": [
    "simulator = CasADi(\n",
    "    system=system,\n",
    "    state_init=rg.array([-10, 10]),\n",
    "    action_init=rg.array([0]),\n",
    "    max_step=1e-3,\n",
    "    first_step=1e-6,\n",
    "    atol=1e-5,\n",
    "    rtol=1e-3,\n",
    ")\n",
    "\n",
    "scenario = Scenario(\n",
    "    policy=policy,\n",
    "    simulator=simulator,\n",
    "    sampling_time=0.01,\n",
    "    N_episodes=1,\n",
    "    N_iterations=1,\n",
    ")"
   ]
  },
  {
   "cell_type": "code",
   "execution_count": null,
   "metadata": {},
   "outputs": [],
   "source": [
    "scenario.run()"
   ]
  },
  {
   "cell_type": "code",
   "execution_count": null,
   "metadata": {},
   "outputs": [],
   "source": [
    "callbacks[1].plot(name=\"observations\")"
   ]
  }
 ],
 "metadata": {
  "kernelspec": {
   "display_name": "regelum",
   "language": "python",
   "name": "python3"
  },
  "language_info": {
   "codemirror_mode": {
    "name": "ipython",
    "version": 3
   },
   "file_extension": ".py",
   "mimetype": "text/x-python",
   "name": "python",
   "nbconvert_exporter": "python",
   "pygments_lexer": "ipython3",
   "version": "3.11.4"
  }
 },
 "nbformat": 4,
 "nbformat_minor": 2
}
