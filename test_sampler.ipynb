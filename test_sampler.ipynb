{
 "cells": [
  {
   "cell_type": "code",
   "execution_count": null,
   "metadata": {},
   "outputs": [],
   "source": [
    "from regelum.data_buffers.data_buffer import DataBuffer\n",
    "from regelum.data_buffers.batch_sampler import RollingBatchSampler\n",
    "from regelum.system import InvertedPendulumPD\n",
    "import numpy as np\n",
    "import torch\n",
    "import casadi as cs\n",
    "from regelum.model import ModelQuadLin, Model\n",
    "from regelum.__utilities import rc\n",
    "from typing import Union\n",
    "import regelum as rg\n",
    "from regelum.system import ThreeWheeledRobotNI\n",
    "import pprint\n",
    "from regelum.predictor import EulerPredictor"
   ]
  },
  {
   "cell_type": "code",
   "execution_count": 13,
   "metadata": {},
   "outputs": [
    {
     "data": {
      "text/html": [
       "<div>\n",
       "<style scoped>\n",
       "    .dataframe tbody tr th:only-of-type {\n",
       "        vertical-align: middle;\n",
       "    }\n",
       "\n",
       "    .dataframe tbody tr th {\n",
       "        vertical-align: top;\n",
       "    }\n",
       "\n",
       "    .dataframe thead th {\n",
       "        text-align: right;\n",
       "    }\n",
       "</style>\n",
       "<table border=\"1\" class=\"dataframe\">\n",
       "  <thead>\n",
       "    <tr style=\"text-align: right;\">\n",
       "      <th></th>\n",
       "      <th>time</th>\n",
       "      <th>running_objective</th>\n",
       "      <th>current_value</th>\n",
       "      <th>episode_id</th>\n",
       "      <th>iteration_id</th>\n",
       "      <th>v_x</th>\n",
       "      <th>v_y</th>\n",
       "      <th>x</th>\n",
       "      <th>y</th>\n",
       "    </tr>\n",
       "  </thead>\n",
       "  <tbody>\n",
       "    <tr>\n",
       "      <th>0</th>\n",
       "      <td>0.00</td>\n",
       "      <td>2000.000000</td>\n",
       "      <td>20.000000</td>\n",
       "      <td>3</td>\n",
       "      <td>199</td>\n",
       "      <td>5.356934</td>\n",
       "      <td>4.811253</td>\n",
       "      <td>-10.000000</td>\n",
       "      <td>-10.000000</td>\n",
       "    </tr>\n",
       "    <tr>\n",
       "      <th>1</th>\n",
       "      <td>0.01</td>\n",
       "      <td>1979.715473</td>\n",
       "      <td>39.797155</td>\n",
       "      <td>3</td>\n",
       "      <td>199</td>\n",
       "      <td>5.790299</td>\n",
       "      <td>4.342394</td>\n",
       "      <td>-9.946431</td>\n",
       "      <td>-9.951887</td>\n",
       "    </tr>\n",
       "    <tr>\n",
       "      <th>2</th>\n",
       "      <td>0.02</td>\n",
       "      <td>1959.606292</td>\n",
       "      <td>59.393218</td>\n",
       "      <td>3</td>\n",
       "      <td>199</td>\n",
       "      <td>5.576942</td>\n",
       "      <td>5.572957</td>\n",
       "      <td>-9.888528</td>\n",
       "      <td>-9.908464</td>\n",
       "    </tr>\n",
       "    <tr>\n",
       "      <th>3</th>\n",
       "      <td>0.03</td>\n",
       "      <td>1937.595015</td>\n",
       "      <td>78.769168</td>\n",
       "      <td>3</td>\n",
       "      <td>199</td>\n",
       "      <td>7.187768</td>\n",
       "      <td>5.715816</td>\n",
       "      <td>-9.832758</td>\n",
       "      <td>-9.852734</td>\n",
       "    </tr>\n",
       "    <tr>\n",
       "      <th>4</th>\n",
       "      <td>0.04</td>\n",
       "      <td>1912.280949</td>\n",
       "      <td>97.891977</td>\n",
       "      <td>3</td>\n",
       "      <td>199</td>\n",
       "      <td>4.527567</td>\n",
       "      <td>4.343293</td>\n",
       "      <td>-9.760881</td>\n",
       "      <td>-9.795576</td>\n",
       "    </tr>\n",
       "    <tr>\n",
       "      <th>...</th>\n",
       "      <td>...</td>\n",
       "      <td>...</td>\n",
       "      <td>...</td>\n",
       "      <td>...</td>\n",
       "      <td>...</td>\n",
       "      <td>...</td>\n",
       "      <td>...</td>\n",
       "      <td>...</td>\n",
       "      <td>...</td>\n",
       "    </tr>\n",
       "    <tr>\n",
       "      <th>996</th>\n",
       "      <td>9.96</td>\n",
       "      <td>8.183013</td>\n",
       "      <td>1793.532110</td>\n",
       "      <td>3</td>\n",
       "      <td>199</td>\n",
       "      <td>1.418625</td>\n",
       "      <td>0.991654</td>\n",
       "      <td>0.751488</td>\n",
       "      <td>0.503555</td>\n",
       "    </tr>\n",
       "    <tr>\n",
       "      <th>997</th>\n",
       "      <td>9.97</td>\n",
       "      <td>8.499095</td>\n",
       "      <td>1793.617101</td>\n",
       "      <td>3</td>\n",
       "      <td>199</td>\n",
       "      <td>0.807840</td>\n",
       "      <td>-0.047221</td>\n",
       "      <td>0.765674</td>\n",
       "      <td>0.513472</td>\n",
       "    </tr>\n",
       "    <tr>\n",
       "      <th>998</th>\n",
       "      <td>9.98</td>\n",
       "      <td>8.618609</td>\n",
       "      <td>1793.703287</td>\n",
       "      <td>3</td>\n",
       "      <td>199</td>\n",
       "      <td>1.918519</td>\n",
       "      <td>-0.920385</td>\n",
       "      <td>0.773752</td>\n",
       "      <td>0.512999</td>\n",
       "    </tr>\n",
       "    <tr>\n",
       "      <th>999</th>\n",
       "      <td>9.99</td>\n",
       "      <td>8.825597</td>\n",
       "      <td>1793.791543</td>\n",
       "      <td>3</td>\n",
       "      <td>199</td>\n",
       "      <td>-0.742441</td>\n",
       "      <td>-0.434857</td>\n",
       "      <td>0.792937</td>\n",
       "      <td>0.503796</td>\n",
       "    </tr>\n",
       "    <tr>\n",
       "      <th>1000</th>\n",
       "      <td>10.00</td>\n",
       "      <td>8.664780</td>\n",
       "      <td>1793.878191</td>\n",
       "      <td>3</td>\n",
       "      <td>199</td>\n",
       "      <td>-0.044253</td>\n",
       "      <td>-0.975902</td>\n",
       "      <td>0.785513</td>\n",
       "      <td>0.499447</td>\n",
       "    </tr>\n",
       "  </tbody>\n",
       "</table>\n",
       "<p>1001 rows × 9 columns</p>\n",
       "</div>"
      ],
      "text/plain": [
       "       time  running_objective  current_value  episode_id  iteration_id  \\\n",
       "0      0.00        2000.000000      20.000000           3           199   \n",
       "1      0.01        1979.715473      39.797155           3           199   \n",
       "2      0.02        1959.606292      59.393218           3           199   \n",
       "3      0.03        1937.595015      78.769168           3           199   \n",
       "4      0.04        1912.280949      97.891977           3           199   \n",
       "...     ...                ...            ...         ...           ...   \n",
       "996    9.96           8.183013    1793.532110           3           199   \n",
       "997    9.97           8.499095    1793.617101           3           199   \n",
       "998    9.98           8.618609    1793.703287           3           199   \n",
       "999    9.99           8.825597    1793.791543           3           199   \n",
       "1000  10.00           8.664780    1793.878191           3           199   \n",
       "\n",
       "           v_x       v_y          x          y  \n",
       "0     5.356934  4.811253 -10.000000 -10.000000  \n",
       "1     5.790299  4.342394  -9.946431  -9.951887  \n",
       "2     5.576942  5.572957  -9.888528  -9.908464  \n",
       "3     7.187768  5.715816  -9.832758  -9.852734  \n",
       "4     4.527567  4.343293  -9.760881  -9.795576  \n",
       "...        ...       ...        ...        ...  \n",
       "996   1.418625  0.991654   0.751488   0.503555  \n",
       "997   0.807840 -0.047221   0.765674   0.513472  \n",
       "998   1.918519 -0.920385   0.773752   0.512999  \n",
       "999  -0.742441 -0.434857   0.792937   0.503796  \n",
       "1000 -0.044253 -0.975902   0.785513   0.499447  \n",
       "\n",
       "[1001 rows x 9 columns]"
      ]
     },
     "execution_count": 13,
     "metadata": {},
     "output_type": "execute_result"
    }
   ],
   "source": [
    "import pandas as pd\n",
    "from pathlib import Path\n",
    "\n",
    "p = Path(\n",
    "    \"/mnt/abolychev/regelum_data/mlflow-artifacts/32/3791d0344899432bbbc15a4c39e8e25c/artifacts/.callbacks/HistoricalDataCallback/\"\n",
    ")\n",
    "\n",
    "pd.read_hdf(p / \"observations_actions_it_00200_ep_00004.h5\")"
   ]
  },
  {
   "cell_type": "code",
   "execution_count": 5,
   "metadata": {},
   "outputs": [],
   "source": [
    "import numpy as np\n",
    "from regelum.system import KinematicPoint\n",
    "from regelum.simulator import CasADi\n",
    "\n",
    "system = KinematicPoint()\n",
    "simulator = CasADi(\n",
    "    system,\n",
    "    max_step=0.001,\n",
    "    state_init=np.array([-10, -10]),\n",
    "    time_final=10,\n",
    ")"
   ]
  },
  {
   "cell_type": "code",
   "execution_count": 4,
   "metadata": {},
   "outputs": [],
   "source": [
    "from scipy.stats import truncnorm\n",
    "import numpy as np"
   ]
  },
  {
   "cell_type": "code",
   "execution_count": 403,
   "metadata": {},
   "outputs": [
    {
     "name": "stdout",
     "output_type": "stream",
     "text": [
      "[0.68327431 0.58674899 0.79191742 0.86151383 0.59435005 0.60815597]\n",
      "tensor([0.6833, 0.5867, 0.7919, 0.8615, 0.5944, 0.6082])\n"
     ]
    }
   ],
   "source": [
    "import matplotlib.pyplot as plt\n",
    "\n",
    "x = np.linspace(-0.0, 2.0, 1000)\n",
    "\n",
    "\n",
    "loc = 0.8\n",
    "scale = 0.2\n",
    "myclip_a = -1\n",
    "myclip_b = 1\n",
    "a, b = (myclip_a - loc) / scale, (myclip_b - loc) / scale\n",
    "\n",
    "# plt.plot(x, truncnorm(loc=loc, scale=scale, a=a, b=b).pdf(x))\n",
    "\n",
    "normal = Normal(loc=loc, scale=scale)\n",
    "\n",
    "x = truncnorm(loc=loc, scale=scale, a=a, b=b).rvs(6)\n",
    "x_th = torch.FloatTensor(x)\n",
    "print(truncnorm(loc=loc, scale=scale, a=a, b=b).logpdf(x))\n",
    "print(\n",
    "    normal.log_prob(x_th)\n",
    "    - torch.log(\n",
    "        normal.cdf(torch.FloatTensor([1])) - normal.cdf(torch.FloatTensor([-1]))\n",
    "    )\n",
    ")"
   ]
  },
  {
   "cell_type": "code",
   "execution_count": 331,
   "metadata": {},
   "outputs": [
    {
     "data": {
      "text/plain": [
       "1.0000000000000002"
      ]
     },
     "execution_count": 331,
     "metadata": {},
     "output_type": "execute_result"
    }
   ],
   "source": [
    "from scipy.stats import norm\n",
    "\n",
    "norm(loc=loc, scale=scale).pdf(np.linspace(-10, 10, 1001)).sum() * np.diff(\n",
    "    np.linspace(-10, 10, 1001)\n",
    ").mean()"
   ]
  },
  {
   "cell_type": "code",
   "execution_count": 332,
   "metadata": {},
   "outputs": [
    {
     "data": {
      "text/plain": [
       "0.02"
      ]
     },
     "execution_count": 332,
     "metadata": {},
     "output_type": "execute_result"
    }
   ],
   "source": [
    "np.diff(np.linspace(-10, 10, 1001)).mean()"
   ]
  },
  {
   "cell_type": "code",
   "execution_count": 343,
   "metadata": {},
   "outputs": [
    {
     "data": {
      "text/plain": [
       "[<matplotlib.lines.Line2D at 0x7fb601879c90>]"
      ]
     },
     "execution_count": 343,
     "metadata": {},
     "output_type": "execute_result"
    },
    {
     "data": {
      "image/png": "[encoded data removed]",
      "text/plain": [
       "<Figure size 640x480 with 1 Axes>"
      ]
     },
     "metadata": {},
     "output_type": "display_data"
    }
   ],
   "source": [
    "import matplotlib.pyplot as plt\n",
    "\n",
    "x = np.linspace(-0.0, 2.0, 1000)\n",
    "\n",
    "plt.plot(x, truncnorm(loc=loc, scale=scale, a=a, b=b).pdf(x))"
   ]
  },
  {
   "cell_type": "code",
   "execution_count": 334,
   "metadata": {},
   "outputs": [
    {
     "ename": "TypeError",
     "evalue": "rv_continuous_frozen.pdf() missing 1 required positional argument: 'x'",
     "output_type": "error",
     "traceback": [
      "\u001b[0;31m---------------------------------------------------------------------------\u001b[0m",
      "\u001b[0;31mTypeError\u001b[0m                                 Traceback (most recent call last)",
      "\u001b[1;32m/mnt/abolychev/regelum/test_sampler.ipynb Cell 7\u001b[0m line \u001b[0;36m1\n\u001b[0;32m----> <a href='vscode-notebook-cell:/mnt/abolychev/regelum/test_sampler.ipynb#X63sZmlsZQ%3D%3D?line=0'>1</a>\u001b[0m truncnorm(loc\u001b[39m=\u001b[39;49mloc, scale\u001b[39m=\u001b[39;49mscale, a\u001b[39m=\u001b[39;49ma, b\u001b[39m=\u001b[39;49mb)\u001b[39m.\u001b[39;49mpdf()\u001b[39m.\u001b[39msum() \u001b[39m*\u001b[39m np\u001b[39m.\u001b[39mdiff(np\u001b[39m.\u001b[39mlinspace(\u001b[39m-\u001b[39m\u001b[39m10\u001b[39m, \u001b[39m10\u001b[39m, \u001b[39m1000\u001b[39m))\u001b[39m.\u001b[39mmean()\n",
      "\u001b[0;31mTypeError\u001b[0m: rv_continuous_frozen.pdf() missing 1 required positional argument: 'x'"
     ]
    }
   ],
   "source": [
    "truncnorm(loc=loc, scale=scale, a=a, b=b).pdf().sum() * np.diff(\n",
    "    np.linspace(-10, 10, 1000)\n",
    ").mean()"
   ]
  },
  {
   "cell_type": "code",
   "execution_count": 252,
   "metadata": {},
   "outputs": [
    {
     "data": {
      "text/plain": [
       "tensor([1.4648])"
      ]
     },
     "execution_count": 252,
     "metadata": {},
     "output_type": "execute_result"
    }
   ],
   "source": [
    "import torch\n",
    "\n",
    "from torch.distributions.normal import Normal\n",
    "\n",
    "torch.exp(torch.FloatTensor([0.38171513]))"
   ]
  },
  {
   "cell_type": "code",
   "execution_count": 261,
   "metadata": {},
   "outputs": [
    {
     "data": {
      "text/plain": [
       "tensor([0.7475])"
      ]
     },
     "execution_count": 261,
     "metadata": {},
     "output_type": "execute_result"
    }
   ],
   "source": [
    "normal.cdf(torch.FloatTensor([b])) - normal.cdf(torch.FloatTensor([a]))"
   ]
  },
  {
   "cell_type": "code",
   "execution_count": 213,
   "metadata": {},
   "outputs": [
    {
     "data": {
      "text/plain": [
       "tensor([0.])"
      ]
     },
     "execution_count": 213,
     "metadata": {},
     "output_type": "execute_result"
    }
   ],
   "source": [
    "normal.cdf(torch.FloatTensor([a]))"
   ]
  },
  {
   "cell_type": "code",
   "execution_count": 256,
   "metadata": {},
   "outputs": [
    {
     "data": {
      "text/plain": [
       "<bound method Normal.cdf of Normal(loc: 0.800000011920929, scale: 0.30000001192092896)>"
      ]
     },
     "execution_count": 256,
     "metadata": {},
     "output_type": "execute_result"
    }
   ],
   "source": [
    "normal"
   ]
  },
  {
   "cell_type": "code",
   "execution_count": null,
   "metadata": {},
   "outputs": [],
   "source": []
  },
  {
   "cell_type": "code",
   "execution_count": 11,
   "metadata": {},
   "outputs": [
    {
     "data": {
      "text/plain": [
       "array([['sdpg', '3wrobot_ni'],\n",
       "       ['ppo', 'cartpole'],\n",
       "       ['ddpg', 'inv_pendulum'],\n",
       "       ['reinforce', 'kin_point'],\n",
       "       ['dqn', '3wrobot_ni'],\n",
       "       ['sarsa', 'cartpole'],\n",
       "       ['rpo', 'inv_pendulum'],\n",
       "       ['rql', 'kin_point'],\n",
       "       ['rql_torch', '3wrobot_ni'],\n",
       "       ['sql', 'cartpole'],\n",
       "       ['sql_torch', 'inv_pendulum'],\n",
       "       ['rpo_torch', 'kin_point'],\n",
       "       ['mpc_torch', '3wrobot_ni'],\n",
       "       ['mpc', 'cartpole']], dtype='<U12')"
      ]
     },
     "execution_count": 11,
     "metadata": {},
     "output_type": "execute_result"
    }
   ],
   "source": [
    "import random\n",
    "import numpy as np\n",
    "\n",
    "\n",
    "controllers = \"sdpg\",\"ppo\",\"ddpg\",\"reinforce\",\"dqn\",\"sarsa\",\"rpo\",\"rql\",\"rql_torch\",\"sql\",\"sql_torch\",\"rpo_torch\",\"mpc_torch\",\"mpc\"\n",
    "systems = \"3wrobot_ni\",\"cartpole\",\"inv_pendulum\",\"kin_point\"\n",
    "for controller, system zip(controllers, np.tile(systems, len(controllers)))\n",
    "\n",
    "\n",
    "np.vstack((controllers,np.tile(systems, len(controllers))[:len(controllers)])).T"
   ]
  },
  {
   "cell_type": "code",
   "execution_count": 5,
   "metadata": {},
   "outputs": [
    {
     "data": {
      "text/plain": [
       "DM(\n",
       "[[1, 9], \n",
       " [0, 4]])"
      ]
     },
     "execution_count": 5,
     "metadata": {},
     "output_type": "execute_result"
    }
   ],
   "source": [
    "import casadi as cs\n",
    "import numpy as np\n",
    "import torch\n",
    "\n",
    "backend = cs.DM\n",
    "\n",
    "\n",
    "(backend([[1, 1], [2, 2]]).T - backend([[2], [4]])).T ** 2"
   ]
  },
  {
   "cell_type": "code",
   "execution_count": 1,
   "metadata": {},
   "outputs": [],
   "source": [
    "import casadi as cs\n",
    "import numpy as np\n",
    "import torch\n",
    "\n",
    "from regelum.constraint import EllipseConstraint, LinearConstraint"
   ]
  },
  {
   "cell_type": "code",
   "execution_count": 2,
   "metadata": {},
   "outputs": [],
   "source": [
    "constraint1 = EllipseConstraint(coefs=[1, 1, 0], centers=[1, 1, 0], radius=1)\n",
    "constraint2 = EllipseConstraint(coefs=[2, 2, 0], centers=[0, 0, 0], radius=3)\n",
    "\n",
    "constraint = constraint1 + constraint2"
   ]
  },
  {
   "cell_type": "code",
   "execution_count": 12,
   "metadata": {},
   "outputs": [
    {
     "data": {
      "text/plain": [
       "DM(-0.5)"
      ]
     },
     "execution_count": 12,
     "metadata": {},
     "output_type": "execute_result"
    }
   ],
   "source": [
    "constraint = LinearConstraint([0, 1, 0], bias=-1) * LinearConstraint(\n",
    "    [0, -1, 0], bias=-1\n",
    ")\n",
    "\n",
    "constraint(cs.DM([[0, -0.5, 0]]))"
   ]
  },
  {
   "cell_type": "code",
   "execution_count": 3,
   "metadata": {},
   "outputs": [
    {
     "data": {
      "text/plain": [
       "MX(min(vertcat(max((ones(2x1)-mac(sq((x'-repmat([1, 1, 0], 2))'),[1, 1, 0],zeros(2x1)))), max((all_9(2x1)-mac(sq((x'-repmat(zeros(3x1), 2))'),[2, 2, 0],zeros(2x1)))))))"
      ]
     },
     "execution_count": 3,
     "metadata": {},
     "output_type": "execute_result"
    }
   ],
   "source": [
    "constraint(cs.MX.sym(\"x\", 2, 3))"
   ]
  },
  {
   "cell_type": "code",
   "execution_count": null,
   "metadata": {},
   "outputs": [],
   "source": [
    "np.array([])"
   ]
  },
  {
   "cell_type": "code",
   "execution_count": null,
   "metadata": {},
   "outputs": [],
   "source": [
    "data_buffer = DataBuffer(20)\n",
    "pp = pprint.PrettyPrinter(depth=3)\n",
    "\n",
    "for batch in data_buffer.iter_batches(\n",
    "    batch_size=4,\n",
    "    n_batches=2,\n",
    "    keys=[\"observation\", \"action\"],\n",
    "    mode=\"backward\",\n",
    "    dtype=cs.DM,\n",
    "):\n",
    "    print(\"\\nPrinting batch\")\n",
    "    print(\n",
    "        \"Action shape:\",\n",
    "        batch[\"action\"].shape,\n",
    "        \"| Observation shape: \",\n",
    "        batch[\"observation\"].shape,\n",
    "    )\n",
    "    pp.pprint(batch)"
   ]
  },
  {
   "cell_type": "code",
   "execution_count": null,
   "metadata": {},
   "outputs": [],
   "source": [
    "class TestOpt(rg.Optimizable):\n",
    "    def __init__(self, opt_config):\n",
    "        super().__init__(opt_config)\n",
    "        self.create_variable(\"\")"
   ]
  },
  {
   "cell_type": "code",
   "execution_count": 23,
   "metadata": {},
   "outputs": [
    {
     "data": {
      "text/plain": [
       "DM([[4.92902, 5.07044, 2.36]])"
      ]
     },
     "execution_count": 23,
     "metadata": {},
     "output_type": "execute_result"
    }
   ],
   "source": [
    "pr = EulerPredictor(ThreeWheeledRobotNI(), 0.01, 1)\n",
    "x1 = rc.DM([[5.0, 5.0, 2.36]])\n",
    "acts = rc.DM([[10.0, 0.0]])\n",
    "\n",
    "x2 = pr.predict_sequence(x1, acts)\n",
    "x2"
   ]
  },
  {
   "cell_type": "code",
   "execution_count": null,
   "metadata": {},
   "outputs": [],
   "source": []
  },
  {
   "cell_type": "code",
   "execution_count": null,
   "metadata": {},
   "outputs": [],
   "source": [
    "ModelQuadLin(quad_matrix_type=\"diaginal\", weights=np.array([1, 10, 1, 0, 0]))"
   ]
  },
  {
   "cell_type": "code",
   "execution_count": 1,
   "metadata": {},
   "outputs": [],
   "source": [
    "from regelum import FunctionWithSignature, VarContainer, Optimizable\n",
    "from regelum.optimizable.core.configs import casadi_default_config"
   ]
  },
  {
   "cell_type": "code",
   "execution_count": 14,
   "metadata": {},
   "outputs": [],
   "source": [
    "def f(x, y):\n",
    "    return x + y"
   ]
  },
  {
   "cell_type": "code",
   "execution_count": 31,
   "metadata": {},
   "outputs": [],
   "source": [
    "f_signed = FunctionWithSignature(f)"
   ]
  },
  {
   "cell_type": "code",
   "execution_count": 20,
   "metadata": {},
   "outputs": [],
   "source": [
    "opt = Optimizable(casadi_default_config)\n",
    "x_var = opt.create_variable(1, 1, name=\"x\")"
   ]
  },
  {
   "cell_type": "code",
   "execution_count": 27,
   "metadata": {},
   "outputs": [
    {
     "data": {
      "text/plain": [
       "OptimizationVariable(name='x', dims=(1, 1), data=None, metadata=MX(opti4_x_1), is_constant=True, hooks=<regelum.optimizable.core.entities.ChainedHook object at 0x7f6e1d350e50>)"
      ]
     },
     "execution_count": 27,
     "metadata": {},
     "output_type": "execute_result"
    }
   ],
   "source": [
    "x_var.as_constant()"
   ]
  },
  {
   "cell_type": "code",
   "execution_count": 28,
   "metadata": {},
   "outputs": [
    {
     "data": {
      "text/plain": [
       "True"
      ]
     },
     "execution_count": 28,
     "metadata": {},
     "output_type": "execute_result"
    }
   ],
   "source": [
    "x_var.is_constant"
   ]
  },
  {
   "cell_type": "code",
   "execution_count": 32,
   "metadata": {},
   "outputs": [
    {
     "data": {
      "text/plain": [
       "FunctionWithSignature(func=<function f at 0x7f6e1d2fdee0>, variables=VarContainer:\n",
       "  x\n",
       "  data: None\n",
       "  metadata: opti4_x_1\n",
       "  dims: (1, 1)\n",
       "  is_constant: True\n",
       "\n",
       "\n",
       "  , is_objective=False, metadata=None)"
      ]
     },
     "execution_count": 32,
     "metadata": {},
     "output_type": "execute_result"
    }
   ],
   "source": [
    "f_signed.declare_variables(x_var)"
   ]
  },
  {
   "cell_type": "code",
   "execution_count": 34,
   "metadata": {},
   "outputs": [
    {
     "data": {
      "text/plain": [
       "['x']"
      ]
     },
     "execution_count": 34,
     "metadata": {},
     "output_type": "execute_result"
    }
   ],
   "source": [
    "f_signed.constants_to_substitute"
   ]
  },
  {
   "cell_type": "code",
   "execution_count": 36,
   "metadata": {},
   "outputs": [],
   "source": [
    "f_signed.set_parameters(x=1)"
   ]
  },
  {
   "cell_type": "code",
   "execution_count": 38,
   "metadata": {},
   "outputs": [
    {
     "data": {
      "text/plain": [
       "3"
      ]
     },
     "execution_count": 38,
     "metadata": {},
     "output_type": "execute_result"
    }
   ],
   "source": [
    "f_signed(y=2)"
   ]
  },
  {
   "cell_type": "code",
   "execution_count": null,
   "metadata": {},
   "outputs": [],
   "source": [
    "from __future__ import annotations\n",
    "from abc import ABC, abstractmethod\n",
    "from typing import Any\n",
    "from typing import List, Union\n",
    "from typing_extensions import Self\n",
    "from regelum import RegelumBase\n",
    "from regelum.__utilities import rc\n",
    "\n",
    "\n",
    "class Constraint(RegelumBase, ABC):\n",
    "    @abstractmethod\n",
    "    def __call__(self, observation) -> Any:\n",
    "        pass\n",
    "\n",
    "    def __add__(self, right: Union[Self, ComposedConstraint]):\n",
    "        return ComposedConstraint(constraints=[self, right])\n",
    "\n",
    "    def __mul__(self, right: Union[Self, ComposedConstraint]):\n",
    "        return ComposedConstraint(constraints=[self, right], is_union=False)\n",
    "\n",
    "\n",
    "class LinearConstraint(Constraint):\n",
    "    def __init__(self, weights, bias) -> None:\n",
    "        self.weights = weights\n",
    "        self.bias = bias\n",
    "\n",
    "    def __call__(self, state) -> Any:\n",
    "        weights_col = rc.force_column(rc.array(self.weights, prototype=state))\n",
    "        return rc.max(state @ weights_col + self.bias)\n",
    "\n",
    "\n",
    "class EllipseConstraint(Constraint):\n",
    "    def __init__(self, coefs, centers, radius) -> None:\n",
    "        self.coefs = coefs\n",
    "        self.centers = centers\n",
    "        self.radius = radius\n",
    "\n",
    "    def __call__(self, state, coefs, centers, radius) -> Any:\n",
    "        centers_column = rc.force_column(rc.array(self.centers, prototype=state))\n",
    "        coefs_column = rc.force_column(rc.array(self.coefs, prototype=state))\n",
    "        return rc.max(\n",
    "            self.radius**2 - (state.T - centers_column).T ** 2 @ coefs_column\n",
    "        )\n",
    "\n",
    "\n",
    "class ComposedConstraint(Constraint):\n",
    "    def __init__(self, constraints: List[Constraint], is_union=True):\n",
    "        self.constraints = constraints\n",
    "        self.is_union = is_union\n",
    "\n",
    "    def __call__(self, state) -> Any:\n",
    "        violations = rc.vstack([constraint(state) for constraint in self.constraints])\n",
    "        return rc.min(violations) if self.is_union else rc.max(violations)\n",
    "\n",
    "    def __add__(self, right: Union[Constraint, Self]):\n",
    "        return ComposedConstraint(constraints=[self, right])\n",
    "\n",
    "    def __mul__(self, right: Union[Constraint, Self]):\n",
    "        return ComposedConstraint(constraints=[self, right], is_union=False)"
   ]
  },
  {
   "cell_type": "code",
   "execution_count": 1,
   "metadata": {},
   "outputs": [],
   "source": [
    "from regelum.optimizable.core.configs import OptimizerConfig\n",
    "from regelum import FunctionWithSignature, VarContainer, Optimizable\n",
    "from regelum.optimizable.core.configs import casadi_default_config\n",
    "\n",
    "\n",
    "class B:\n",
    "    def __init__(self, var_container, vars_to_handle):\n",
    "        self.var_container = var_container\n",
    "        self.vars_to_handle = vars_to_handle\n",
    "\n",
    "    def push_data_to_vars(self):\n",
    "        vars_selected = self.var_container.selected(self.vars_to_handle)\n",
    "        vars_selected.substitute_data(**{name: 1 for name in vars_selected.names})\n",
    "\n",
    "\n",
    "class A(Optimizable):\n",
    "    def __init__(self, optimizer_config: OptimizerConfig) -> None:\n",
    "        super().__init__(optimizer_config)\n",
    "        self.x = self.create_variable(1, 1, name=\"x\")\n",
    "        self.y = self.create_variable(1, 1, name=\"y\", is_constant=True)\n",
    "        self.z = self.create_variable(1, 1, name=\"z\", is_constant=True)\n",
    "        self.register_objective(self.f, variables=[self.x, self.y, self.z])\n",
    "        self.register_constraint(self.constr, variables=[self.x, self.y])\n",
    "\n",
    "    def get_b_instance(self):\n",
    "        return B(self.variables, [\"y\", \"z\"])\n",
    "\n",
    "    def constr(self, x, y):\n",
    "        return 2 * y - x\n",
    "\n",
    "    def f(self, x, y, z):\n",
    "        return x**2 + y**2 + z**2"
   ]
  },
  {
   "cell_type": "code",
   "execution_count": 2,
   "metadata": {},
   "outputs": [],
   "source": [
    "a = A(casadi_default_config)"
   ]
  },
  {
   "cell_type": "code",
   "execution_count": 3,
   "metadata": {},
   "outputs": [],
   "source": [
    "b = a.get_b_instance()"
   ]
  },
  {
   "cell_type": "code",
   "execution_count": 4,
   "metadata": {},
   "outputs": [
    {
     "data": {
      "text/plain": [
       "MX(opti0_p_1)"
      ]
     },
     "execution_count": 4,
     "metadata": {},
     "output_type": "execute_result"
    }
   ],
   "source": [
    "a.y.metadata"
   ]
  },
  {
   "cell_type": "code",
   "execution_count": 5,
   "metadata": {},
   "outputs": [],
   "source": [
    "b.push_data_to_vars()"
   ]
  },
  {
   "cell_type": "code",
   "execution_count": 6,
   "metadata": {},
   "outputs": [
    {
     "name": "stdout",
     "output_type": "stream",
     "text": [
      "\n",
      "******************************************************************************\n",
      "This program contains Ipopt, a library for large-scale nonlinear optimization.\n",
      " Ipopt is released as open source code under the Eclipse Public License (EPL).\n",
      "         For more information visit https://github.com/coin-or/Ipopt\n",
      "******************************************************************************\n",
      "\n",
      "      solver  :   t_proc      (avg)   t_wall      (avg)    n_eval\n",
      "       nlp_f  | 173.00us ( 28.83us)  14.46us (  2.41us)         6\n",
      "       nlp_g  | 214.00us ( 35.67us)  17.65us (  2.94us)         6\n",
      "  nlp_grad_f  | 281.00us ( 40.14us)  22.32us (  3.19us)         7\n",
      "  nlp_hess_l  | 127.00us ( 25.40us)  10.86us (  2.17us)         5\n",
      "   nlp_jac_g  | 174.00us ( 24.86us)  14.36us (  2.05us)         7\n",
      "       total  |  85.01ms ( 85.01ms)   7.11ms (  7.11ms)         1\n"
     ]
    },
    {
     "data": {
      "text/plain": [
       "{'constr': DM(-6.26583e-10), 'f': DM(6), 'x': DM(2)}"
      ]
     },
     "execution_count": 6,
     "metadata": {},
     "output_type": "execute_result"
    }
   ],
   "source": [
    "# a.optimize(x=10, raw=True)\n",
    "a.optimize(x=10, raw=True)"
   ]
  },
  {
   "cell_type": "code",
   "execution_count": 7,
   "metadata": {},
   "outputs": [
    {
     "data": {
      "text/plain": [
       "'success'"
      ]
     },
     "execution_count": 7,
     "metadata": {},
     "output_type": "execute_result"
    }
   ],
   "source": [
    "a.opt_status"
   ]
  },
  {
   "cell_type": "code",
   "execution_count": 8,
   "metadata": {},
   "outputs": [
    {
     "data": {
      "text/plain": [
       "1.9999602946"
      ]
     },
     "execution_count": 8,
     "metadata": {},
     "output_type": "execute_result"
    }
   ],
   "source": [
    "a.constr(3.97054e-05, 1)"
   ]
  },
  {
   "cell_type": "code",
   "execution_count": 18,
   "metadata": {},
   "outputs": [
    {
     "data": {
      "text/plain": [
       "0.10054244"
      ]
     },
     "execution_count": 18,
     "metadata": {},
     "output_type": "execute_result"
    }
   ],
   "source": [
    "import numpy as np\n",
    "\n",
    "np.float32(0.2324554634) * np.float32(0.4325234523)"
   ]
  },
  {
   "cell_type": "code",
   "execution_count": 9,
   "metadata": {},
   "outputs": [
    {
     "data": {
      "text/plain": [
       "1109547918663576429582"
      ]
     },
     "execution_count": 9,
     "metadata": {},
     "output_type": "execute_result"
    }
   ],
   "source": [
    "32324554634 * 34325234523"
   ]
  },
  {
   "cell_type": "code",
   "execution_count": 9,
   "metadata": {},
   "outputs": [
    {
     "data": {
      "text/plain": [
       "FuncContainer:\n",
       "  FunctionWithSignature(func=<bound method A.constr of <__main__.A object at 0x7f7685a284d0>>, variables=VarContainer:\n",
       "  x\n",
       "  data: None\n",
       "  metadata: opti0_x_1\n",
       "  dims: (1, 1)\n",
       "  is_constant: False\n",
       "\n",
       "\n",
       "  y\n",
       "  data: None\n",
       "  metadata: opti0_p_1\n",
       "  dims: (1, 1)\n",
       "  is_constant: True\n",
       "\n",
       "\n",
       "  , is_objective=False, metadata=MX(((2.*opti0_p_1)-opti0_x_1)))\n",
       "  "
      ]
     },
     "execution_count": 9,
     "metadata": {},
     "output_type": "execute_result"
    }
   ],
   "source": [
    "a.constraints"
   ]
  },
  {
   "cell_type": "code",
   "execution_count": null,
   "metadata": {},
   "outputs": [],
   "source": []
  },
  {
   "cell_type": "code",
   "execution_count": 6,
   "metadata": {},
   "outputs": [
    {
     "data": {
      "text/plain": [
       "[MX((2==opti0_p_1)), MX((1==opti0_p_2))]"
      ]
     },
     "execution_count": 6,
     "metadata": {},
     "output_type": "execute_result"
    }
   ],
   "source": [
    "a.opti.value_parameters()"
   ]
  },
  {
   "cell_type": "code",
   "execution_count": null,
   "metadata": {},
   "outputs": [],
   "source": []
  }
 ],
 "metadata": {
  "kernelspec": {
   "display_name": "rcenv",
   "language": "python",
   "name": "python3"
  },
  "language_info": {
   "codemirror_mode": {
    "name": "ipython",
    "version": 3
   },
   "file_extension": ".py",
   "mimetype": "text/x-python",
   "name": "python",
   "nbconvert_exporter": "python",
   "pygments_lexer": "ipython3",
   "version": "3.11.4"
  },
  "orig_nbformat": 4
 },
 "nbformat": 4,
 "nbformat_minor": 2
}
