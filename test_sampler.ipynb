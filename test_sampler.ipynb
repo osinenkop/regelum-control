{
 "cells": [
  {
   "cell_type": "code",
   "execution_count": 1,
   "metadata": {},
   "outputs": [],
   "source": [
    "from rcognita.data_buffers.data_buffer import DataBuffer\n",
    "from rcognita.data_buffers.batch_sampler import RollingBatchSampler\n",
    "from rcognita.system import InvertedPendulumPD\n",
    "import numpy as np\n",
    "import torch\n",
    "import casadi as cs\n",
    "from rcognita.model import ModelQuadLin, Model\n",
    "from rcognita.__utilities import rc\n",
    "from typing import Union\n",
    "import rcognita as rg\n",
    "from rcognita.system import ThreeWheeledRobotNI\n",
    "import pprint"
   ]
  },
  {
   "cell_type": "code",
   "execution_count": 10,
   "metadata": {},
   "outputs": [
    {
     "name": "stdout",
     "output_type": "stream",
     "text": [
      "\n",
      "Printing batch\n",
      "Action shape: (4, 2) | Observation shape:  (4, 3)\n",
      "{'action': DM(\n",
      "[[-16, -16], \n",
      " [-17, -17], \n",
      " [-18, -18], \n",
      " [-19, -19]]),\n",
      " 'observation': DM(\n",
      "[[16, 16, 16], \n",
      " [17, 17, 17], \n",
      " [18, 18, 18], \n",
      " [19, 19, 19]])}\n",
      "\n",
      "Printing batch\n",
      "Action shape: (4, 2) | Observation shape:  (4, 3)\n",
      "{'action': DM(\n",
      "[[-15, -15], \n",
      " [-16, -16], \n",
      " [-17, -17], \n",
      " [-18, -18]]),\n",
      " 'observation': DM(\n",
      "[[15, 15, 15], \n",
      " [16, 16, 16], \n",
      " [17, 17, 17], \n",
      " [18, 18, 18]])}\n"
     ]
    }
   ],
   "source": [
    "data_buffer = DataBuffer(20)\n",
    "pp = pprint.PrettyPrinter(depth=3)\n",
    "\n",
    "for batch in data_buffer.iter_batches(\n",
    "    batch_size=4,\n",
    "    n_batches=2,\n",
    "    keys=[\"observation\", \"action\"],\n",
    "    mode=\"backward\",\n",
    "    dtype=cs.DM,\n",
    "):\n",
    "    print(\"\\nPrinting batch\")\n",
    "    print(\n",
    "        \"Action shape:\",\n",
    "        batch[\"action\"].shape,\n",
    "        \"| Observation shape: \",\n",
    "        batch[\"observation\"].shape,\n",
    "    )\n",
    "    pp.pprint(batch)"
   ]
  },
  {
   "cell_type": "code",
   "execution_count": null,
   "metadata": {},
   "outputs": [],
   "source": []
  }
 ],
 "metadata": {
  "kernelspec": {
   "display_name": "rcenv",
   "language": "python",
   "name": "python3"
  },
  "language_info": {
   "codemirror_mode": {
    "name": "ipython",
    "version": 3
   },
   "file_extension": ".py",
   "mimetype": "text/x-python",
   "name": "python",
   "nbconvert_exporter": "python",
   "pygments_lexer": "ipython3",
   "version": "3.9.16"
  },
  "orig_nbformat": 4
 },
 "nbformat": 4,
 "nbformat_minor": 2
}
