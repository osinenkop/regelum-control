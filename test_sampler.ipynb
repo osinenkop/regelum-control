{
 "cells": [
  {
   "cell_type": "code",
   "execution_count": 2,
   "metadata": {},
   "outputs": [
    {
     "name": "stderr",
     "output_type": "stream",
     "text": [
      "/home/user/.pyenv/versions/3.10.9/envs/rcenv_dev/lib/python3.10/site-packages/tqdm/auto.py:21: TqdmWarning: IProgress not found. Please update jupyter and ipywidgets. See https://ipywidgets.readthedocs.io/en/stable/user_install.html\n",
      "  from .autonotebook import tqdm as notebook_tqdm\n"
     ]
    }
   ],
   "source": [
    "from rcognita.data_buffers.data_buffer import DataBuffer\n",
    "from rcognita.data_buffers.samplers import RollingSampler\n",
    "from rcognita.system import InvertedPendulumPD\n",
    "import numpy as np\n",
    "import torch\n",
    "import casadi as cs\n",
    "from rcognita.model import ModelQuadLin, ModelQuadNoMix, Model\n",
    "from rcognita.__utilities import rc\n",
    "from typing import Union\n",
    "\n",
    "\n",
    "data_buffer = DataBuffer(20)"
   ]
  },
  {
   "cell_type": "code",
   "execution_count": 3,
   "metadata": {},
   "outputs": [],
   "source": [
    "dim_inputs = 6\n",
    "batch_size = 10\n",
    "\n",
    "quad_matrix_source = np.random.randn(dim_inputs, dim_inputs)\n",
    "linear_coefs_source = np.random.randn(1, dim_inputs)\n",
    "inputs_source = np.random.randn(batch_size, dim_inputs)\n",
    "inputs_1dim_source = np.random.randn(dim_inputs)"
   ]
  },
  {
   "cell_type": "code",
   "execution_count": 4,
   "metadata": {},
   "outputs": [],
   "source": [
    "dtype = np.array\n",
    "\n",
    "quad_matrix = dtype(quad_matrix_source)\n",
    "linear_coefs = dtype(linear_coefs_source)\n",
    "inputs = dtype(inputs_source)\n",
    "inputs_1dim = dtype(inputs_source)[0, :]"
   ]
  },
  {
   "cell_type": "code",
   "execution_count": 5,
   "metadata": {},
   "outputs": [],
   "source": [
    "class ModelQuadLin(Model):\n",
    "    model_name = \"ModelQuadLin\"\n",
    "\n",
    "    def __init__(\n",
    "        self,\n",
    "        quad_matrix_type: str,\n",
    "        is_with_linear_terms=False,\n",
    "        dim_inputs=None,\n",
    "        weights=None,\n",
    "        single_weight_min=1.0e-6,\n",
    "        single_weight_max=1.0e3,\n",
    "    ):\n",
    "        assert (\n",
    "            dim_inputs is not None or weights is not None\n",
    "        ), \"Need dim_inputs or weights\"\n",
    "\n",
    "        self.quad_matrix_type = quad_matrix_type\n",
    "        self.is_with_linear_terms = is_with_linear_terms\n",
    "\n",
    "        if weights is None:\n",
    "            self._calculate_dims(dim_inputs)\n",
    "            self.weight_min = single_weight_min * np.ones(self.dim_weights)\n",
    "            self.weight_max = single_weight_max * np.ones(self.dim_weights)\n",
    "            self.weights = (self.weight_min + self.weight_max) / 20.0\n",
    "        else:\n",
    "            self._calculate_dims(self._calculate_dim_inputs(len(weights)))\n",
    "            assert self.dim_weights == len(weights), \"Wrong shape of dim_weights\"\n",
    "            self.weights = weights\n",
    "\n",
    "        self.update_and_cache_weights()\n",
    "\n",
    "    def _calculate_dim_inputs(self, dim_weights):\n",
    "        if self.quad_matrix_type == \"diagonal\":\n",
    "            if self.is_with_linear_terms:\n",
    "                return dim_weights // 2\n",
    "            else:\n",
    "                return dim_weights\n",
    "        elif self.quad_matrix_type == \"full\":\n",
    "            if self.is_with_linear_terms:\n",
    "                return round((np.sqrt(1 + 4 * dim_weights) - 1) / 2)\n",
    "            else:\n",
    "                return round(np.sqrt(dim_weights))\n",
    "        elif self.quad_matrix_type == \"symmetric\":\n",
    "            if self.is_with_linear_terms:\n",
    "                return round((np.sqrt(9 + 8 * dim_weights) - 1) / 2)\n",
    "            else:\n",
    "                return round((np.sqrt(1 + 8 * dim_weights) - 1) / 2)\n",
    "\n",
    "    def _calculate_dims(self, dim_inputs):\n",
    "        self.dim_inputs = dim_inputs\n",
    "        self.dim_linear = dim_inputs if self.is_with_linear_terms else 0\n",
    "        if self.quad_matrix_type == \"diagonal\":\n",
    "            self.dim_quad = dim_inputs\n",
    "        elif self.quad_matrix_type == \"full\":\n",
    "            self.dim_quad = dim_inputs * dim_inputs\n",
    "        elif self.quad_matrix_type == \"symmetric\":\n",
    "            self.dim_quad = dim_inputs * (dim_inputs + 1) // 2\n",
    "\n",
    "        self.dim_weights = self.dim_quad + self.dim_linear\n",
    "\n",
    "    def cast_to_inputs_type(self, value, inputs):\n",
    "        if isinstance(inputs, torch.Tensor):\n",
    "            device = inputs.device\n",
    "            return torch.FloatTensor(value).to(device)\n",
    "\n",
    "        return value\n",
    "\n",
    "    def forward_symmetric(self, inputs, weights):\n",
    "        quad_matrix = ModelQuadLin.quad_matrix_from_flat_weights(\n",
    "            weights[: self.dim_quad]\n",
    "        )\n",
    "        linear_coefs = (\n",
    "            weights[None, self.dim_quad :] if self.is_with_linear_terms else None\n",
    "        )\n",
    "\n",
    "        return ModelQuadLin.quadratic_linear_form(\n",
    "            inputs,\n",
    "            self.cast_to_inputs_type(quad_matrix, inputs),\n",
    "            self.cast_to_inputs_type(linear_coefs, inputs),\n",
    "        )\n",
    "\n",
    "    def forward_diagonal(self, inputs, weights):\n",
    "        quad_matrix = np.diag(weights[: self.dim_quad])\n",
    "        linear_coefs = (\n",
    "            weights[None, self.dim_quad :] if self.is_with_linear_terms else None\n",
    "        )\n",
    "\n",
    "        return ModelQuadLin.quadratic_linear_form(\n",
    "            inputs,\n",
    "            self.cast_to_inputs_type(quad_matrix, inputs),\n",
    "            self.cast_to_inputs_type(linear_coefs, inputs),\n",
    "        )\n",
    "\n",
    "    def forward_full(self, inputs, weights):\n",
    "        quad_matrix = weights[: self.dim_quad].reshape(self.dim_inputs, self.dim_inputs)\n",
    "        linear_coefs = (\n",
    "            weights[None, self.dim_quad :] if self.is_with_linear_terms else None\n",
    "        )\n",
    "\n",
    "        return ModelQuadLin.quadratic_linear_form(\n",
    "            inputs,\n",
    "            self.cast_to_inputs_type(quad_matrix, inputs),\n",
    "            self.cast_to_inputs_type(linear_coefs, inputs),\n",
    "        )\n",
    "\n",
    "    def forward(self, inputs, weights=None):\n",
    "        if weights is None:\n",
    "            weights = self.weights\n",
    "        if self.quad_matrix_type == \"symmetric\":\n",
    "            return self.forward_symmetric(inputs, weights)\n",
    "        elif self.quad_matrix_type == \"diagonal\":\n",
    "            return self.forward_diagonal(inputs, weights)\n",
    "        elif self.quad_matrix_type == \"full\":\n",
    "            return self.forward_full(inputs, weights)\n",
    "\n",
    "    @staticmethod\n",
    "    def quad_matrix_from_flat_weights(\n",
    "        flat_weights: Union[np.array, cs.DM, torch.Tensor], tol=1e-7\n",
    "    ):\n",
    "        len_flat_weights = flat_weights.shape[0]\n",
    "        dim_quad_matrix_float = (np.sqrt(1 + 8 * len_flat_weights) - 1) / 2\n",
    "        dim_quad_matrix = round(dim_quad_matrix_float)\n",
    "        assert np.isclose(\n",
    "            dim_quad_matrix_float, dim_quad_matrix, tol\n",
    "        ), f\"Can't build quad matrix with flat_weights of dim {len_flat_weights}\"\n",
    "\n",
    "        quad_matrix = rc.zeros(\n",
    "            (dim_quad_matrix, dim_quad_matrix), prototype=flat_weights\n",
    "        )\n",
    "        left_ids, right_ids = np.triu_indices(dim_quad_matrix)\n",
    "        for weigth_idx, (i, j) in enumerate(zip(left_ids, right_ids)):\n",
    "            quad_matrix[i, j] = flat_weights[weigth_idx]\n",
    "\n",
    "        return quad_matrix\n",
    "\n",
    "    @staticmethod\n",
    "    def quadratic_linear_form(inputs, quad_matrix, linear_coefs=None):\n",
    "        initial_dim_inputs = len(inputs.shape)\n",
    "        assert (\n",
    "            initial_dim_inputs == 1 or initial_dim_inputs == 2\n",
    "        ), \"Wrong shape of inputs can be 1d or 2d. Got {}\".format(initial_dim_inputs)\n",
    "\n",
    "        if initial_dim_inputs == 1:\n",
    "            inputs = inputs.reshape(1, -1)\n",
    "        assert (\n",
    "            len(quad_matrix.shape) == 2\n",
    "        ), \"Wrong shape of quad matrix. Should be 2d. Got{}\".format(\n",
    "            len(quad_matrix.shape)\n",
    "        )\n",
    "        assert (\n",
    "            quad_matrix.shape[0] == quad_matrix.shape[1]\n",
    "        ), \"Quad matrix should be square\"\n",
    "        assert (\n",
    "            quad_matrix.shape[0] == inputs.shape[1]\n",
    "        ), \"Quad matrix should have same number of rows as inputs\"\n",
    "\n",
    "        quadratic_term = inputs @ quad_matrix @ inputs.T\n",
    "        if len(quadratic_term.shape) > 0:\n",
    "            quadratic_term = rc.diag(quadratic_term)\n",
    "\n",
    "        if linear_coefs is not None:\n",
    "            assert (\n",
    "                len(linear_coefs.shape) == 2 and linear_coefs.shape[0] == 1\n",
    "            ), \"Wrong shape of linear coefs. Should be (1,n). Got {}\".format(\n",
    "                linear_coefs.shape\n",
    "            )\n",
    "\n",
    "            assert (\n",
    "                quad_matrix.shape[1] == linear_coefs.shape[1]\n",
    "            ), \"Quad matrix should have same number of columns as linear coefs\"\n",
    "\n",
    "            linear_term = inputs @ linear_coefs.T\n",
    "            output = quadratic_term + linear_term\n",
    "        else:\n",
    "            output = quadratic_term\n",
    "\n",
    "        if initial_dim_inputs == 1:\n",
    "            output = output.reshape(-1)\n",
    "        return output"
   ]
  },
  {
   "cell_type": "code",
   "execution_count": 6,
   "metadata": {},
   "outputs": [],
   "source": [
    "# ModelQuadLin(quad_matrix_type=\"full\", dim_inputs=10, is_with_linear_terms=True).forward(\n",
    "#     torch.ones(10).float().to(\"cuda:0\")\n",
    "# )\n",
    "var = cs.MX.sym(\"x\", (3, 10))\n",
    "model = ModelQuadLin(quad_matrix_type=\"full\", dim_inputs=10, is_with_linear_terms=True)\n",
    "inferred = model(var)\n",
    "\n",
    "fun = rc.to_casadi_function(inferred, var)"
   ]
  },
  {
   "cell_type": "code",
   "execution_count": 13,
   "metadata": {},
   "outputs": [
    {
     "ename": "TypeError",
     "evalue": "ModelQuadLin.forward() got multiple values for argument 'weights'",
     "output_type": "error",
     "traceback": [
      "\u001b[0;31m---------------------------------------------------------------------------\u001b[0m",
      "\u001b[0;31mTypeError\u001b[0m                                 Traceback (most recent call last)",
      "Cell \u001b[0;32mIn[13], line 1\u001b[0m\n\u001b[0;32m----> 1\u001b[0m model(torch\u001b[39m.\u001b[39;49mones((\u001b[39m3\u001b[39;49m, \u001b[39m5\u001b[39;49m))\u001b[39m.\u001b[39;49mfloat(), torch\u001b[39m.\u001b[39;49mones((\u001b[39m3\u001b[39;49m, \u001b[39m5\u001b[39;49m))\u001b[39m.\u001b[39;49mfloat())\n",
      "File \u001b[0;32m/mnt/md0/rcognita/rcognita/model.py:52\u001b[0m, in \u001b[0;36mModel.__call__\u001b[0;34m(self, weights, use_stored_weights, *args)\u001b[0m\n\u001b[1;32m     50\u001b[0m         \u001b[39mreturn\u001b[39;00m \u001b[39mself\u001b[39m\u001b[39m.\u001b[39mforward(\u001b[39m*\u001b[39margs, weights\u001b[39m=\u001b[39mweights)\n\u001b[1;32m     51\u001b[0m     \u001b[39melse\u001b[39;00m:\n\u001b[0;32m---> 52\u001b[0m         \u001b[39mreturn\u001b[39;00m \u001b[39mself\u001b[39;49m\u001b[39m.\u001b[39;49mforward(\u001b[39m*\u001b[39;49margs, weights\u001b[39m=\u001b[39;49m\u001b[39mself\u001b[39;49m\u001b[39m.\u001b[39;49mweights)\n\u001b[1;32m     53\u001b[0m \u001b[39melse\u001b[39;00m:\n\u001b[1;32m     54\u001b[0m     \u001b[39mreturn\u001b[39;00m \u001b[39mself\u001b[39m\u001b[39m.\u001b[39mcache\u001b[39m.\u001b[39mforward(\u001b[39m*\u001b[39margs, weights\u001b[39m=\u001b[39m\u001b[39mself\u001b[39m\u001b[39m.\u001b[39mcache\u001b[39m.\u001b[39mweights)\n",
      "\u001b[0;31mTypeError\u001b[0m: ModelQuadLin.forward() got multiple values for argument 'weights'"
     ]
    }
   ],
   "source": [
    "model(torch.ones((3, 5)).float(), torch.ones((3, 5)).float())"
   ]
  },
  {
   "cell_type": "code",
   "execution_count": 11,
   "metadata": {},
   "outputs": [
    {
     "data": {
      "text/plain": [
       "array([50.00000005, 50.00000005, 50.00000005, 50.00000005, 50.00000005,\n",
       "       50.00000005, 50.00000005, 50.00000005, 50.00000005, 50.00000005,\n",
       "       50.00000005, 50.00000005, 50.00000005, 50.00000005, 50.00000005,\n",
       "       50.00000005, 50.00000005, 50.00000005, 50.00000005, 50.00000005,\n",
       "       50.00000005, 50.00000005, 50.00000005, 50.00000005, 50.00000005,\n",
       "       50.00000005, 50.00000005, 50.00000005, 50.00000005, 50.00000005,\n",
       "       50.00000005, 50.00000005, 50.00000005, 50.00000005, 50.00000005,\n",
       "       50.00000005, 50.00000005, 50.00000005, 50.00000005, 50.00000005,\n",
       "       50.00000005, 50.00000005, 50.00000005, 50.00000005, 50.00000005,\n",
       "       50.00000005, 50.00000005, 50.00000005, 50.00000005, 50.00000005,\n",
       "       50.00000005, 50.00000005, 50.00000005, 50.00000005, 50.00000005,\n",
       "       50.00000005, 50.00000005, 50.00000005, 50.00000005, 50.00000005,\n",
       "       50.00000005, 50.00000005, 50.00000005, 50.00000005, 50.00000005,\n",
       "       50.00000005, 50.00000005, 50.00000005, 50.00000005, 50.00000005,\n",
       "       50.00000005, 50.00000005, 50.00000005, 50.00000005, 50.00000005,\n",
       "       50.00000005, 50.00000005, 50.00000005, 50.00000005, 50.00000005,\n",
       "       50.00000005, 50.00000005, 50.00000005, 50.00000005, 50.00000005,\n",
       "       50.00000005, 50.00000005, 50.00000005, 50.00000005, 50.00000005,\n",
       "       50.00000005, 50.00000005, 50.00000005, 50.00000005, 50.00000005,\n",
       "       50.00000005, 50.00000005, 50.00000005, 50.00000005, 50.00000005,\n",
       "       50.00000005, 50.00000005, 50.00000005, 50.00000005, 50.00000005,\n",
       "       50.00000005, 50.00000005, 50.00000005, 50.00000005, 50.00000005])"
      ]
     },
     "execution_count": 11,
     "metadata": {},
     "output_type": "execute_result"
    }
   ],
   "source": [
    "model.weights"
   ]
  },
  {
   "cell_type": "code",
   "execution_count": 13,
   "metadata": {},
   "outputs": [
    {
     "data": {
      "text/plain": [
       "DM([5500, 5500, 5500])"
      ]
     },
     "execution_count": 13,
     "metadata": {},
     "output_type": "execute_result"
    }
   ],
   "source": [
    "fun(np.ones((3, 10)))"
   ]
  },
  {
   "cell_type": "code",
   "execution_count": 175,
   "metadata": {},
   "outputs": [
    {
     "data": {
      "text/plain": [
       "array([[-12.19375124],\n",
       "       [ 11.48625062],\n",
       "       [ -1.1589163 ],\n",
       "       [ -4.70181312],\n",
       "       [ -1.34230182],\n",
       "       [  2.18544219],\n",
       "       [  2.66085847],\n",
       "       [ -0.33756305],\n",
       "       [-12.53730914],\n",
       "       [ -2.84967403]])"
      ]
     },
     "execution_count": 175,
     "metadata": {},
     "output_type": "execute_result"
    }
   ],
   "source": [
    "quadratic_linear_form(inputs, quad_matrix, linear_coefs)"
   ]
  },
  {
   "cell_type": "code",
   "execution_count": 176,
   "metadata": {},
   "outputs": [
    {
     "data": {
      "text/plain": [
       "array([-12.19375124])"
      ]
     },
     "execution_count": 176,
     "metadata": {},
     "output_type": "execute_result"
    }
   ],
   "source": [
    "quadratic_linear_form(inputs_1dim, quad_matrix, linear_coefs)"
   ]
  },
  {
   "cell_type": "code",
   "execution_count": null,
   "metadata": {},
   "outputs": [],
   "source": []
  },
  {
   "cell_type": "code",
   "execution_count": 79,
   "metadata": {},
   "outputs": [
    {
     "data": {
      "text/plain": [
       "DM(\n",
       "[[0.479169, -0.60329, -2.34685], \n",
       " [0, -2.02354, -1.20931], \n",
       " [0, 0, 1.41944]])"
      ]
     },
     "execution_count": 79,
     "metadata": {},
     "output_type": "execute_result"
    }
   ],
   "source": [
    "quad_matrix_from_flat_weights(cs.DM(np.random.randn(6)))"
   ]
  },
  {
   "cell_type": "code",
   "execution_count": 56,
   "metadata": {},
   "outputs": [
    {
     "data": {
      "text/plain": [
       "array([[-0.89828672,  0.17927228,  0.10315711],\n",
       "       [ 0.        , -1.06295708,  0.27266104],\n",
       "       [ 0.        ,  0.        , -0.81095218]])"
      ]
     },
     "execution_count": 56,
     "metadata": {},
     "output_type": "execute_result"
    }
   ],
   "source": [
    "quad_matrix_from_flat_weights(np.arange(6))"
   ]
  },
  {
   "cell_type": "code",
   "execution_count": 47,
   "metadata": {},
   "outputs": [
    {
     "name": "stdout",
     "output_type": "stream",
     "text": [
      "0 0\n",
      "0 1\n",
      "0 2\n",
      "1 1\n",
      "1 2\n",
      "2 2\n"
     ]
    }
   ],
   "source": [
    "import numpy as np\n",
    "\n",
    "quad_matrix = rc.zeros((3, 3), rc_type=rc.CASADI)\n",
    "left_ids, right_ids = np.triu_indices(3)\n",
    "for weigth_idx, (i, j) in enumerate(zip(left_ids, right_ids)):\n",
    "    quad_matrix[i, j] = weights[weigth_idx]"
   ]
  },
  {
   "cell_type": "code",
   "execution_count": 45,
   "metadata": {},
   "outputs": [
    {
     "data": {
      "text/plain": [
       "DM(\n",
       "[[-0.898287, 0.179272, 0.103157], \n",
       " [0, -1.06296, 0.272661], \n",
       " [0, 0, -0.810952]])"
      ]
     },
     "execution_count": 45,
     "metadata": {},
     "output_type": "execute_result"
    }
   ],
   "source": [
    "quad_matrix"
   ]
  },
  {
   "cell_type": "code",
   "execution_count": 38,
   "metadata": {},
   "outputs": [
    {
     "data": {
      "text/plain": [
       "DM(\n",
       "[[0, 0], \n",
       " [0, 0]])"
      ]
     },
     "execution_count": 38,
     "metadata": {},
     "output_type": "execute_result"
    }
   ],
   "source": [
    "quad_matrix[[2, 1], [2, 1]]"
   ]
  },
  {
   "cell_type": "code",
   "execution_count": 30,
   "metadata": {},
   "outputs": [
    {
     "data": {
      "text/plain": [
       "array([[0., 1., 2.],\n",
       "       [0., 3., 4.],\n",
       "       [0., 0., 5.]])"
      ]
     },
     "execution_count": 30,
     "metadata": {},
     "output_type": "execute_result"
    }
   ],
   "source": [
    "quad_matrix"
   ]
  },
  {
   "cell_type": "code",
   "execution_count": 26,
   "metadata": {},
   "outputs": [
    {
     "data": {
      "text/plain": [
       "(array([0, 0, 0, 1, 1, 2]), array([0, 1, 2, 1, 2, 2]))"
      ]
     },
     "execution_count": 26,
     "metadata": {},
     "output_type": "execute_result"
    }
   ],
   "source": [
    "np.triu_indices(3)"
   ]
  },
  {
   "cell_type": "code",
   "execution_count": 11,
   "metadata": {},
   "outputs": [
    {
     "data": {
      "text/plain": [
       "DM(\n",
       "[[4.53883, -1.15349, 2.21474], \n",
       " [-1.15349, 0.293145, -0.562849], \n",
       " [2.21474, -0.562849, 1.08069]])"
      ]
     },
     "execution_count": 11,
     "metadata": {},
     "output_type": "execute_result"
    }
   ],
   "source": [
    "rc.outer(x, x)"
   ]
  },
  {
   "cell_type": "code",
   "execution_count": 10,
   "metadata": {},
   "outputs": [
    {
     "data": {
      "text/plain": [
       "DM(-7.07441)"
      ]
     },
     "execution_count": 10,
     "metadata": {},
     "output_type": "execute_result"
    }
   ],
   "source": [
    "result"
   ]
  },
  {
   "cell_type": "code",
   "execution_count": 7,
   "metadata": {},
   "outputs": [
    {
     "data": {
      "text/plain": [
       "DM([0.730796, -0.677986, -0.787233, 0.628992, 0.730344, 0.848028, -0.854866, 0.79309, 0.920884])"
      ]
     },
     "execution_count": 7,
     "metadata": {},
     "output_type": "execute_result"
    }
   ],
   "source": [
    "polynom"
   ]
  },
  {
   "cell_type": "code",
   "execution_count": 69,
   "metadata": {},
   "outputs": [
    {
     "ename": "NotImplementedError",
     "evalue": "Wrong number or type of arguments for overloaded function 'new_DM'.\n  Possible prototypes are:\n    DM()\n    DM(Sparsity)\n    DM(float)\n    DM([[float]])\n    DM(DM)\n    DM([SXElem])\n    DM(SX)\n    DM(int,int)\n    DM(Sparsity,DM)\n  You have: '(Tensor)'\n",
     "output_type": "error",
     "traceback": [
      "\u001b[0;31m---------------------------------------------------------------------------\u001b[0m",
      "\u001b[0;31mNotImplementedError\u001b[0m                       Traceback (most recent call last)",
      "\u001b[0;32m/tmp/ipykernel_3005908/2059995507.py\u001b[0m in \u001b[0;36m?\u001b[0;34m()\u001b[0m\n\u001b[0;32m----> 1\u001b[0;31m \u001b[0mcs\u001b[0m\u001b[0;34m.\u001b[0m\u001b[0mdiag\u001b[0m\u001b[0;34m(\u001b[0m\u001b[0mcs\u001b[0m\u001b[0;34m.\u001b[0m\u001b[0mDM\u001b[0m\u001b[0;34m(\u001b[0m\u001b[0mx\u001b[0m\u001b[0;34m)\u001b[0m \u001b[0;34m@\u001b[0m \u001b[0mcs\u001b[0m\u001b[0;34m.\u001b[0m\u001b[0mDM\u001b[0m\u001b[0;34m(\u001b[0m\u001b[0mweights\u001b[0m\u001b[0;34m)\u001b[0m \u001b[0;34m@\u001b[0m \u001b[0mcs\u001b[0m\u001b[0;34m.\u001b[0m\u001b[0mDM\u001b[0m\u001b[0;34m(\u001b[0m\u001b[0mx\u001b[0m\u001b[0;34m.\u001b[0m\u001b[0mT\u001b[0m\u001b[0;34m)\u001b[0m\u001b[0;34m)\u001b[0m\u001b[0;34m.\u001b[0m\u001b[0mfull\u001b[0m\u001b[0;34m(\u001b[0m\u001b[0;34m)\u001b[0m\u001b[0;34m\u001b[0m\u001b[0;34m\u001b[0m\u001b[0m\n\u001b[0m",
      "\u001b[0;32m~/.pyenv/versions/3.9.16/envs/rcenv/lib/python3.9/site-packages/casadi/casadi.py\u001b[0m in \u001b[0;36m?\u001b[0;34m(self, *args)\u001b[0m\n\u001b[1;32m  10873\u001b[0m \u001b[0;34m\u001b[0m\u001b[0m\n\u001b[1;32m  10874\u001b[0m \u001b[0;34m\u001b[0m\u001b[0m\n\u001b[1;32m  10875\u001b[0m \u001b[0;34m\u001b[0m\u001b[0m\n\u001b[1;32m  10876\u001b[0m         \"\"\"\n\u001b[0;32m> 10877\u001b[0;31m         \u001b[0mthis\u001b[0m \u001b[0;34m=\u001b[0m \u001b[0m_casadi\u001b[0m\u001b[0;34m.\u001b[0m\u001b[0mnew_DM\u001b[0m\u001b[0;34m(\u001b[0m\u001b[0;34m*\u001b[0m\u001b[0margs\u001b[0m\u001b[0;34m)\u001b[0m\u001b[0;34m\u001b[0m\u001b[0;34m\u001b[0m\u001b[0m\n\u001b[0m\u001b[1;32m  10878\u001b[0m         \u001b[0;32mtry\u001b[0m\u001b[0;34m:\u001b[0m\u001b[0;34m\u001b[0m\u001b[0;34m\u001b[0m\u001b[0m\n\u001b[1;32m  10879\u001b[0m             \u001b[0mself\u001b[0m\u001b[0;34m.\u001b[0m\u001b[0mthis\u001b[0m\u001b[0;34m.\u001b[0m\u001b[0mappend\u001b[0m\u001b[0;34m(\u001b[0m\u001b[0mthis\u001b[0m\u001b[0;34m)\u001b[0m\u001b[0;34m\u001b[0m\u001b[0;34m\u001b[0m\u001b[0m\n\u001b[1;32m  10880\u001b[0m         \u001b[0;32mexcept\u001b[0m \u001b[0m__builtin__\u001b[0m\u001b[0;34m.\u001b[0m\u001b[0mException\u001b[0m\u001b[0;34m:\u001b[0m\u001b[0;34m\u001b[0m\u001b[0;34m\u001b[0m\u001b[0m\n",
      "\u001b[0;31mNotImplementedError\u001b[0m: Wrong number or type of arguments for overloaded function 'new_DM'.\n  Possible prototypes are:\n    DM()\n    DM(Sparsity)\n    DM(float)\n    DM([[float]])\n    DM(DM)\n    DM([SXElem])\n    DM(SX)\n    DM(int,int)\n    DM(Sparsity,DM)\n  You have: '(Tensor)'\n"
     ]
    }
   ],
   "source": [
    "cs.diag(cs.DM(x) @ cs.DM(weights) @ cs.DM(x.T)).full()"
   ]
  },
  {
   "cell_type": "code",
   "execution_count": 66,
   "metadata": {},
   "outputs": [
    {
     "data": {
      "text/plain": [
       "array([[2.20434664],\n",
       "       [3.23446814],\n",
       "       [1.50832892],\n",
       "       [0.14954387],\n",
       "       [1.02458255],\n",
       "       [1.92327833],\n",
       "       [0.38708603],\n",
       "       [2.88263956],\n",
       "       [0.64751441],\n",
       "       [0.43413925]])"
      ]
     },
     "execution_count": 66,
     "metadata": {},
     "output_type": "execute_result"
    }
   ],
   "source": [
    "np.diag(x @ weights @ x.T).reshape(-1, 1)"
   ]
  },
  {
   "cell_type": "code",
   "execution_count": 12,
   "metadata": {},
   "outputs": [],
   "source": [
    "for i in range(100):\n",
    "    data_buffer.push_to_end(\n",
    "        action=np.array([i, i, i], dtype=float),\n",
    "        observation=np.array([i, i, i], dtype=float),\n",
    "    )"
   ]
  },
  {
   "cell_type": "code",
   "execution_count": 16,
   "metadata": {},
   "outputs": [
    {
     "name": "stdout",
     "output_type": "stream",
     "text": [
      "{'action': DM(\n",
      "[[96, 96, 96], \n",
      " [97, 97, 97], \n",
      " [98, 98, 98], \n",
      " [99, 99, 99]]), 'observation': DM(\n",
      "[[96, 96, 96], \n",
      " [97, 97, 97], \n",
      " [98, 98, 98], \n",
      " [99, 99, 99]])}\n"
     ]
    },
    {
     "ename": "RuntimeError",
     "evalue": ".../casadi/core/matrix_impl.hpp:2000: Assertion \"x.size()==y.size()\" failed:\ndot: Dimension mismatch",
     "output_type": "error",
     "traceback": [
      "\u001b[0;31m---------------------------------------------------------------------------\u001b[0m",
      "\u001b[0;31mRuntimeError\u001b[0m                              Traceback (most recent call last)",
      "\u001b[0;32m/tmp/ipykernel_3005908/539372993.py\u001b[0m in \u001b[0;36m?\u001b[0;34m()\u001b[0m\n\u001b[0;32m----> 9\u001b[0;31m \u001b[0mmodel\u001b[0m \u001b[0;34m=\u001b[0m \u001b[0mModelQuadNoMix\u001b[0m\u001b[0;34m(\u001b[0m\u001b[0mdim_input\u001b[0m\u001b[0;34m=\u001b[0m\u001b[0;36m3\u001b[0m\u001b[0;34m)\u001b[0m\u001b[0;34m\u001b[0m\u001b[0;34m\u001b[0m\u001b[0m\n\u001b[0m\u001b[1;32m     10\u001b[0m \u001b[0;34m\u001b[0m\u001b[0m\n\u001b[1;32m     11\u001b[0m for batch in data_buffer.iter_batches(\n\u001b[1;32m     12\u001b[0m     \u001b[0mbatch_size\u001b[0m\u001b[0;34m=\u001b[0m\u001b[0;36m4\u001b[0m\u001b[0;34m,\u001b[0m \u001b[0mmode\u001b[0m\u001b[0;34m=\u001b[0m\u001b[0;34m\"backward\"\u001b[0m\u001b[0;34m,\u001b[0m \u001b[0mkeys\u001b[0m\u001b[0;34m=\u001b[0m\u001b[0;34m[\u001b[0m\u001b[0;34m\"action\"\u001b[0m\u001b[0;34m,\u001b[0m \u001b[0;34m\"observation\"\u001b[0m\u001b[0;34m]\u001b[0m\u001b[0;34m,\u001b[0m \u001b[0mdtype\u001b[0m\u001b[0;34m=\u001b[0m\u001b[0mcs\u001b[0m\u001b[0;34m.\u001b[0m\u001b[0mDM\u001b[0m\u001b[0;34m\u001b[0m\u001b[0;34m\u001b[0m\u001b[0m\n",
      "\u001b[0;32m/mnt/abolychev/rcognita-dev/rcognita/rcognita/model.py\u001b[0m in \u001b[0;36m?\u001b[0;34m(self, weights, use_stored_weights, *args)\u001b[0m\n\u001b[1;32m     48\u001b[0m         \u001b[0;32mif\u001b[0m \u001b[0muse_stored_weights\u001b[0m \u001b[0;32mis\u001b[0m \u001b[0;32mFalse\u001b[0m\u001b[0;34m:\u001b[0m\u001b[0;34m\u001b[0m\u001b[0;34m\u001b[0m\u001b[0m\n\u001b[1;32m     49\u001b[0m             \u001b[0;32mif\u001b[0m \u001b[0mweights\u001b[0m \u001b[0;32mis\u001b[0m \u001b[0;32mnot\u001b[0m \u001b[0;32mNone\u001b[0m\u001b[0;34m:\u001b[0m\u001b[0;34m\u001b[0m\u001b[0;34m\u001b[0m\u001b[0m\n\u001b[1;32m     50\u001b[0m                 \u001b[0;32mreturn\u001b[0m \u001b[0mself\u001b[0m\u001b[0;34m.\u001b[0m\u001b[0mforward\u001b[0m\u001b[0;34m(\u001b[0m\u001b[0;34m*\u001b[0m\u001b[0margs\u001b[0m\u001b[0;34m,\u001b[0m \u001b[0mweights\u001b[0m\u001b[0;34m=\u001b[0m\u001b[0mweights\u001b[0m\u001b[0;34m)\u001b[0m\u001b[0;34m\u001b[0m\u001b[0;34m\u001b[0m\u001b[0m\n\u001b[1;32m     51\u001b[0m             \u001b[0;32melse\u001b[0m\u001b[0;34m:\u001b[0m\u001b[0;34m\u001b[0m\u001b[0;34m\u001b[0m\u001b[0m\n\u001b[0;32m---> 52\u001b[0;31m                 \u001b[0;32mreturn\u001b[0m \u001b[0mself\u001b[0m\u001b[0;34m.\u001b[0m\u001b[0mforward\u001b[0m\u001b[0;34m(\u001b[0m\u001b[0;34m*\u001b[0m\u001b[0margs\u001b[0m\u001b[0;34m,\u001b[0m \u001b[0mweights\u001b[0m\u001b[0;34m=\u001b[0m\u001b[0mself\u001b[0m\u001b[0;34m.\u001b[0m\u001b[0mweights\u001b[0m\u001b[0;34m)\u001b[0m\u001b[0;34m\u001b[0m\u001b[0;34m\u001b[0m\u001b[0m\n\u001b[0m\u001b[1;32m     53\u001b[0m         \u001b[0;32melse\u001b[0m\u001b[0;34m:\u001b[0m\u001b[0;34m\u001b[0m\u001b[0;34m\u001b[0m\u001b[0m\n\u001b[1;32m     54\u001b[0m             \u001b[0;32mreturn\u001b[0m \u001b[0mself\u001b[0m\u001b[0;34m.\u001b[0m\u001b[0mcache\u001b[0m\u001b[0;34m.\u001b[0m\u001b[0mforward\u001b[0m\u001b[0;34m(\u001b[0m\u001b[0;34m*\u001b[0m\u001b[0margs\u001b[0m\u001b[0;34m,\u001b[0m \u001b[0mweights\u001b[0m\u001b[0;34m=\u001b[0m\u001b[0mself\u001b[0m\u001b[0;34m.\u001b[0m\u001b[0mcache\u001b[0m\u001b[0;34m.\u001b[0m\u001b[0mweights\u001b[0m\u001b[0;34m)\u001b[0m\u001b[0;34m\u001b[0m\u001b[0;34m\u001b[0m\u001b[0m\n",
      "\u001b[0;32m/mnt/abolychev/rcognita-dev/rcognita/rcognita/model.py\u001b[0m in \u001b[0;36m?\u001b[0;34m(self, weights, *argin)\u001b[0m\n\u001b[1;32m    265\u001b[0m             \u001b[0mvec\u001b[0m \u001b[0;34m=\u001b[0m \u001b[0mvec\u001b[0m\u001b[0;34m[\u001b[0m\u001b[0;36m0\u001b[0m\u001b[0;34m]\u001b[0m\u001b[0;34m\u001b[0m\u001b[0;34m\u001b[0m\u001b[0m\n\u001b[1;32m    266\u001b[0m \u001b[0;34m\u001b[0m\u001b[0m\n\u001b[1;32m    267\u001b[0m         \u001b[0mpolynom\u001b[0m \u001b[0;34m=\u001b[0m \u001b[0mvec\u001b[0m \u001b[0;34m*\u001b[0m \u001b[0mvec\u001b[0m\u001b[0;34m\u001b[0m\u001b[0;34m\u001b[0m\u001b[0m\n\u001b[1;32m    268\u001b[0m \u001b[0;34m\u001b[0m\u001b[0m\n\u001b[0;32m--> 269\u001b[0;31m         \u001b[0mresult\u001b[0m \u001b[0;34m=\u001b[0m \u001b[0mrc\u001b[0m\u001b[0;34m.\u001b[0m\u001b[0mdot\u001b[0m\u001b[0;34m(\u001b[0m\u001b[0mweights\u001b[0m\u001b[0;34m,\u001b[0m \u001b[0mpolynom\u001b[0m\u001b[0;34m)\u001b[0m\u001b[0;34m\u001b[0m\u001b[0;34m\u001b[0m\u001b[0m\n\u001b[0m\u001b[1;32m    270\u001b[0m \u001b[0;34m\u001b[0m\u001b[0m\n\u001b[1;32m    271\u001b[0m         \u001b[0;32mreturn\u001b[0m \u001b[0mresult\u001b[0m\u001b[0;34m\u001b[0m\u001b[0;34m\u001b[0m\u001b[0m\n",
      "\u001b[0;32m/mnt/abolychev/rcognita-dev/rcognita/rcognita/__utilities.py\u001b[0m in \u001b[0;36m?\u001b[0;34m(*args, **kwargs)\u001b[0m\n\u001b[1;32m    110\u001b[0m         \u001b[0;32mif\u001b[0m \u001b[0mrc_type\u001b[0m \u001b[0;32mis\u001b[0m \u001b[0;32mnot\u001b[0m \u001b[0;32mNone\u001b[0m\u001b[0;34m:\u001b[0m\u001b[0;34m\u001b[0m\u001b[0;34m\u001b[0m\u001b[0m\n\u001b[1;32m    111\u001b[0m             \u001b[0;32mdel\u001b[0m \u001b[0mkwargs\u001b[0m\u001b[0;34m[\u001b[0m\u001b[0;34m\"rc_type\"\u001b[0m\u001b[0;34m]\u001b[0m\u001b[0;34m\u001b[0m\u001b[0;34m\u001b[0m\u001b[0m\n\u001b[1;32m    112\u001b[0m             \u001b[0;32mreturn\u001b[0m \u001b[0mfunction\u001b[0m\u001b[0;34m(\u001b[0m\u001b[0;34m*\u001b[0m\u001b[0margs\u001b[0m\u001b[0;34m,\u001b[0m \u001b[0;34m**\u001b[0m\u001b[0mkwargs\u001b[0m\u001b[0;34m,\u001b[0m \u001b[0mrc_type\u001b[0m\u001b[0;34m=\u001b[0m\u001b[0mrc_type\u001b[0m\u001b[0;34m)\u001b[0m\u001b[0;34m\u001b[0m\u001b[0;34m\u001b[0m\u001b[0m\n\u001b[1;32m    113\u001b[0m         \u001b[0;32melse\u001b[0m\u001b[0;34m:\u001b[0m\u001b[0;34m\u001b[0m\u001b[0;34m\u001b[0m\u001b[0m\n\u001b[0;32m--> 114\u001b[0;31m             \u001b[0;32mreturn\u001b[0m \u001b[0mfunction\u001b[0m\u001b[0;34m(\u001b[0m\u001b[0;34m*\u001b[0m\u001b[0margs\u001b[0m\u001b[0;34m,\u001b[0m \u001b[0;34m**\u001b[0m\u001b[0mkwargs\u001b[0m\u001b[0;34m,\u001b[0m \u001b[0mrc_type\u001b[0m\u001b[0;34m=\u001b[0m\u001b[0mtype_inference\u001b[0m\u001b[0;34m(\u001b[0m\u001b[0;34m*\u001b[0m\u001b[0margs\u001b[0m\u001b[0;34m,\u001b[0m \u001b[0;34m**\u001b[0m\u001b[0mkwargs\u001b[0m\u001b[0;34m)\u001b[0m\u001b[0;34m)\u001b[0m\u001b[0;34m\u001b[0m\u001b[0;34m\u001b[0m\u001b[0m\n\u001b[0m",
      "\u001b[0;32m/mnt/abolychev/rcognita-dev/rcognita/rcognita/__utilities.py\u001b[0m in \u001b[0;36m?\u001b[0;34m(self, A, B, rc_type)\u001b[0m\n\u001b[1;32m    529\u001b[0m             \u001b[0;32mreturn\u001b[0m \u001b[0mnp\u001b[0m\u001b[0;34m.\u001b[0m\u001b[0mdot\u001b[0m\u001b[0;34m(\u001b[0m\u001b[0mA\u001b[0m\u001b[0;34m,\u001b[0m \u001b[0mB\u001b[0m\u001b[0;34m)\u001b[0m\u001b[0;34m\u001b[0m\u001b[0;34m\u001b[0m\u001b[0m\n\u001b[1;32m    530\u001b[0m         \u001b[0;32melif\u001b[0m \u001b[0mrc_type\u001b[0m \u001b[0;34m==\u001b[0m \u001b[0mTORCH\u001b[0m\u001b[0;34m:\u001b[0m\u001b[0;34m\u001b[0m\u001b[0;34m\u001b[0m\u001b[0m\n\u001b[1;32m    531\u001b[0m             \u001b[0;32mreturn\u001b[0m \u001b[0mtorch\u001b[0m\u001b[0;34m.\u001b[0m\u001b[0mdot\u001b[0m\u001b[0;34m(\u001b[0m\u001b[0mA\u001b[0m\u001b[0;34m,\u001b[0m \u001b[0mB\u001b[0m\u001b[0;34m)\u001b[0m\u001b[0;34m\u001b[0m\u001b[0;34m\u001b[0m\u001b[0m\n\u001b[1;32m    532\u001b[0m         \u001b[0;32melif\u001b[0m \u001b[0mrc_type\u001b[0m \u001b[0;34m==\u001b[0m \u001b[0mCASADI\u001b[0m\u001b[0;34m:\u001b[0m\u001b[0;34m\u001b[0m\u001b[0;34m\u001b[0m\u001b[0m\n\u001b[0;32m--> 533\u001b[0;31m             \u001b[0;32mreturn\u001b[0m \u001b[0mcasadi\u001b[0m\u001b[0;34m.\u001b[0m\u001b[0mdot\u001b[0m\u001b[0;34m(\u001b[0m\u001b[0mA\u001b[0m\u001b[0;34m,\u001b[0m \u001b[0mB\u001b[0m\u001b[0;34m)\u001b[0m\u001b[0;34m\u001b[0m\u001b[0;34m\u001b[0m\u001b[0m\n\u001b[0m",
      "\u001b[0;32m~/.pyenv/versions/3.9.16/envs/rcenv/lib/python3.9/site-packages/casadi/casadi.py\u001b[0m in \u001b[0;36m?\u001b[0;34m(*args)\u001b[0m\n\u001b[1;32m  36357\u001b[0m \u001b[0;34m\u001b[0m\u001b[0m\n\u001b[1;32m  36358\u001b[0m \u001b[0;34m\u001b[0m\u001b[0m\n\u001b[1;32m  36359\u001b[0m \u001b[0;34m\u001b[0m\u001b[0m\n\u001b[1;32m  36360\u001b[0m     \"\"\"\n\u001b[0;32m> 36361\u001b[0;31m     \u001b[0;32mreturn\u001b[0m \u001b[0m_casadi\u001b[0m\u001b[0;34m.\u001b[0m\u001b[0mdot\u001b[0m\u001b[0;34m(\u001b[0m\u001b[0;34m*\u001b[0m\u001b[0margs\u001b[0m\u001b[0;34m)\u001b[0m\u001b[0;34m\u001b[0m\u001b[0;34m\u001b[0m\u001b[0m\n\u001b[0m",
      "\u001b[0;31mRuntimeError\u001b[0m: .../casadi/core/matrix_impl.hpp:2000: Assertion \"x.size()==y.size()\" failed:\ndot: Dimension mismatch"
     ]
    }
   ],
   "source": [
    "model = ModelQuadNoMix(dim_input=3)\n",
    "\n",
    "for batch in data_buffer.iter_batches(\n",
    "    batch_size=4, mode=\"backward\", keys=[\"action\", \"observation\"], dtype=cs.DM\n",
    "):\n",
    "    print(batch)\n",
    "    break\n",
    "\n",
    "model(batch[\"observation\"])"
   ]
  },
  {
   "cell_type": "code",
   "execution_count": 3,
   "metadata": {},
   "outputs": [
    {
     "data": {
      "text/plain": [
       "array([False, False])"
      ]
     },
     "execution_count": 3,
     "metadata": {},
     "output_type": "execute_result"
    }
   ],
   "source": [
    "np.isnan([1, 2])"
   ]
  },
  {
   "cell_type": "code",
   "execution_count": 3,
   "metadata": {},
   "outputs": [
    {
     "data": {
      "text/html": [
       "<div>\n",
       "<style scoped>\n",
       "    .dataframe tbody tr th:only-of-type {\n",
       "        vertical-align: middle;\n",
       "    }\n",
       "\n",
       "    .dataframe tbody tr th {\n",
       "        vertical-align: top;\n",
       "    }\n",
       "\n",
       "    .dataframe thead th {\n",
       "        text-align: right;\n",
       "    }\n",
       "</style>\n",
       "<table border=\"1\" class=\"dataframe\">\n",
       "  <thead>\n",
       "    <tr style=\"text-align: right;\">\n",
       "      <th></th>\n",
       "      <th>observation</th>\n",
       "      <th>action</th>\n",
       "    </tr>\n",
       "  </thead>\n",
       "  <tbody>\n",
       "    <tr>\n",
       "      <th>0</th>\n",
       "      <td>[-80, -80, -80]</td>\n",
       "      <td>[80, 80, 80]</td>\n",
       "    </tr>\n",
       "    <tr>\n",
       "      <th>1</th>\n",
       "      <td>[-81, -81, -81]</td>\n",
       "      <td>[81, 81, 81]</td>\n",
       "    </tr>\n",
       "    <tr>\n",
       "      <th>2</th>\n",
       "      <td>[-82, -82, -82]</td>\n",
       "      <td>[82, 82, 82]</td>\n",
       "    </tr>\n",
       "    <tr>\n",
       "      <th>3</th>\n",
       "      <td>[-83, -83, -83]</td>\n",
       "      <td>[83, 83, 83]</td>\n",
       "    </tr>\n",
       "    <tr>\n",
       "      <th>4</th>\n",
       "      <td>[-84, -84, -84]</td>\n",
       "      <td>[84, 84, 84]</td>\n",
       "    </tr>\n",
       "    <tr>\n",
       "      <th>5</th>\n",
       "      <td>[-85, -85, -85]</td>\n",
       "      <td>[85, 85, 85]</td>\n",
       "    </tr>\n",
       "    <tr>\n",
       "      <th>6</th>\n",
       "      <td>[-86, -86, -86]</td>\n",
       "      <td>[86, 86, 86]</td>\n",
       "    </tr>\n",
       "    <tr>\n",
       "      <th>7</th>\n",
       "      <td>[-87, -87, -87]</td>\n",
       "      <td>[87, 87, 87]</td>\n",
       "    </tr>\n",
       "    <tr>\n",
       "      <th>8</th>\n",
       "      <td>[-88, -88, -88]</td>\n",
       "      <td>[88, 88, 88]</td>\n",
       "    </tr>\n",
       "    <tr>\n",
       "      <th>9</th>\n",
       "      <td>[-89, -89, -89]</td>\n",
       "      <td>[89, 89, 89]</td>\n",
       "    </tr>\n",
       "    <tr>\n",
       "      <th>10</th>\n",
       "      <td>[-90, -90, -90]</td>\n",
       "      <td>[90, 90, 90]</td>\n",
       "    </tr>\n",
       "    <tr>\n",
       "      <th>11</th>\n",
       "      <td>[-91, -91, -91]</td>\n",
       "      <td>[91, 91, 91]</td>\n",
       "    </tr>\n",
       "    <tr>\n",
       "      <th>12</th>\n",
       "      <td>[-92, -92, -92]</td>\n",
       "      <td>[92, 92, 92]</td>\n",
       "    </tr>\n",
       "    <tr>\n",
       "      <th>13</th>\n",
       "      <td>[-93, -93, -93]</td>\n",
       "      <td>[93, 93, 93]</td>\n",
       "    </tr>\n",
       "    <tr>\n",
       "      <th>14</th>\n",
       "      <td>[-94, -94, -94]</td>\n",
       "      <td>[94, 94, 94]</td>\n",
       "    </tr>\n",
       "    <tr>\n",
       "      <th>15</th>\n",
       "      <td>[-95, -95, -95]</td>\n",
       "      <td>[95, 95, 95]</td>\n",
       "    </tr>\n",
       "    <tr>\n",
       "      <th>16</th>\n",
       "      <td>[-96, -96, -96]</td>\n",
       "      <td>[96, 96, 96]</td>\n",
       "    </tr>\n",
       "    <tr>\n",
       "      <th>17</th>\n",
       "      <td>[-97, -97, -97]</td>\n",
       "      <td>[97, 97, 97]</td>\n",
       "    </tr>\n",
       "    <tr>\n",
       "      <th>18</th>\n",
       "      <td>[-98, -98, -98]</td>\n",
       "      <td>[98, 98, 98]</td>\n",
       "    </tr>\n",
       "    <tr>\n",
       "      <th>19</th>\n",
       "      <td>[-99, -99, -99]</td>\n",
       "      <td>[99, 99, 99]</td>\n",
       "    </tr>\n",
       "  </tbody>\n",
       "</table>\n",
       "</div>"
      ],
      "text/plain": [
       "        observation        action\n",
       "0   [-80, -80, -80]  [80, 80, 80]\n",
       "1   [-81, -81, -81]  [81, 81, 81]\n",
       "2   [-82, -82, -82]  [82, 82, 82]\n",
       "3   [-83, -83, -83]  [83, 83, 83]\n",
       "4   [-84, -84, -84]  [84, 84, 84]\n",
       "5   [-85, -85, -85]  [85, 85, 85]\n",
       "6   [-86, -86, -86]  [86, 86, 86]\n",
       "7   [-87, -87, -87]  [87, 87, 87]\n",
       "8   [-88, -88, -88]  [88, 88, 88]\n",
       "9   [-89, -89, -89]  [89, 89, 89]\n",
       "10  [-90, -90, -90]  [90, 90, 90]\n",
       "11  [-91, -91, -91]  [91, 91, 91]\n",
       "12  [-92, -92, -92]  [92, 92, 92]\n",
       "13  [-93, -93, -93]  [93, 93, 93]\n",
       "14  [-94, -94, -94]  [94, 94, 94]\n",
       "15  [-95, -95, -95]  [95, 95, 95]\n",
       "16  [-96, -96, -96]  [96, 96, 96]\n",
       "17  [-97, -97, -97]  [97, 97, 97]\n",
       "18  [-98, -98, -98]  [98, 98, 98]\n",
       "19  [-99, -99, -99]  [99, 99, 99]"
      ]
     },
     "execution_count": 3,
     "metadata": {},
     "output_type": "execute_result"
    }
   ],
   "source": [
    "data_buffer.to_pandas()"
   ]
  },
  {
   "cell_type": "code",
   "execution_count": 3,
   "metadata": {},
   "outputs": [],
   "source": [
    "data_buffer.push_to_end(jopa=2)"
   ]
  },
  {
   "cell_type": "code",
   "execution_count": 11,
   "metadata": {},
   "outputs": [],
   "source": [
    "data_buffer.push_to_end(jopa3=10)"
   ]
  },
  {
   "cell_type": "code",
   "execution_count": 22,
   "metadata": {},
   "outputs": [
    {
     "data": {
      "text/html": [
       "<div>\n",
       "<style scoped>\n",
       "    .dataframe tbody tr th:only-of-type {\n",
       "        vertical-align: middle;\n",
       "    }\n",
       "\n",
       "    .dataframe tbody tr th {\n",
       "        vertical-align: top;\n",
       "    }\n",
       "\n",
       "    .dataframe thead th {\n",
       "        text-align: right;\n",
       "    }\n",
       "</style>\n",
       "<table border=\"1\" class=\"dataframe\">\n",
       "  <thead>\n",
       "    <tr style=\"text-align: right;\">\n",
       "      <th></th>\n",
       "      <th>observation</th>\n",
       "      <th>action</th>\n",
       "      <th>jopa</th>\n",
       "      <th>jopa2</th>\n",
       "      <th>jopa3</th>\n",
       "      <th>jopa4</th>\n",
       "    </tr>\n",
       "  </thead>\n",
       "  <tbody>\n",
       "    <tr>\n",
       "      <th>0</th>\n",
       "      <td>[-83, -83, -83]</td>\n",
       "      <td>[83, 83, 83]</td>\n",
       "      <td>nan</td>\n",
       "      <td>nan</td>\n",
       "      <td>nan</td>\n",
       "      <td>nan</td>\n",
       "    </tr>\n",
       "    <tr>\n",
       "      <th>1</th>\n",
       "      <td>[-84, -84, -84]</td>\n",
       "      <td>[84, 84, 84]</td>\n",
       "      <td>nan</td>\n",
       "      <td>nan</td>\n",
       "      <td>nan</td>\n",
       "      <td>nan</td>\n",
       "    </tr>\n",
       "    <tr>\n",
       "      <th>2</th>\n",
       "      <td>[-85, -85, -85]</td>\n",
       "      <td>[85, 85, 85]</td>\n",
       "      <td>nan</td>\n",
       "      <td>nan</td>\n",
       "      <td>nan</td>\n",
       "      <td>nan</td>\n",
       "    </tr>\n",
       "    <tr>\n",
       "      <th>3</th>\n",
       "      <td>[-86, -86, -86]</td>\n",
       "      <td>[86, 86, 86]</td>\n",
       "      <td>nan</td>\n",
       "      <td>nan</td>\n",
       "      <td>nan</td>\n",
       "      <td>nan</td>\n",
       "    </tr>\n",
       "    <tr>\n",
       "      <th>4</th>\n",
       "      <td>[-87, -87, -87]</td>\n",
       "      <td>[87, 87, 87]</td>\n",
       "      <td>nan</td>\n",
       "      <td>nan</td>\n",
       "      <td>nan</td>\n",
       "      <td>nan</td>\n",
       "    </tr>\n",
       "    <tr>\n",
       "      <th>5</th>\n",
       "      <td>[-88, -88, -88]</td>\n",
       "      <td>[88, 88, 88]</td>\n",
       "      <td>nan</td>\n",
       "      <td>nan</td>\n",
       "      <td>nan</td>\n",
       "      <td>nan</td>\n",
       "    </tr>\n",
       "    <tr>\n",
       "      <th>6</th>\n",
       "      <td>[-89, -89, -89]</td>\n",
       "      <td>[89, 89, 89]</td>\n",
       "      <td>nan</td>\n",
       "      <td>nan</td>\n",
       "      <td>nan</td>\n",
       "      <td>nan</td>\n",
       "    </tr>\n",
       "    <tr>\n",
       "      <th>7</th>\n",
       "      <td>[-90, -90, -90]</td>\n",
       "      <td>[90, 90, 90]</td>\n",
       "      <td>nan</td>\n",
       "      <td>nan</td>\n",
       "      <td>nan</td>\n",
       "      <td>nan</td>\n",
       "    </tr>\n",
       "    <tr>\n",
       "      <th>8</th>\n",
       "      <td>[-91, -91, -91]</td>\n",
       "      <td>[91, 91, 91]</td>\n",
       "      <td>nan</td>\n",
       "      <td>nan</td>\n",
       "      <td>nan</td>\n",
       "      <td>nan</td>\n",
       "    </tr>\n",
       "    <tr>\n",
       "      <th>9</th>\n",
       "      <td>[-92, -92, -92]</td>\n",
       "      <td>[92, 92, 92]</td>\n",
       "      <td>nan</td>\n",
       "      <td>nan</td>\n",
       "      <td>nan</td>\n",
       "      <td>nan</td>\n",
       "    </tr>\n",
       "    <tr>\n",
       "      <th>10</th>\n",
       "      <td>[-93, -93, -93]</td>\n",
       "      <td>[93, 93, 93]</td>\n",
       "      <td>nan</td>\n",
       "      <td>nan</td>\n",
       "      <td>nan</td>\n",
       "      <td>nan</td>\n",
       "    </tr>\n",
       "    <tr>\n",
       "      <th>11</th>\n",
       "      <td>[-94, -94, -94]</td>\n",
       "      <td>[94, 94, 94]</td>\n",
       "      <td>nan</td>\n",
       "      <td>nan</td>\n",
       "      <td>nan</td>\n",
       "      <td>nan</td>\n",
       "    </tr>\n",
       "    <tr>\n",
       "      <th>12</th>\n",
       "      <td>[-95, -95, -95]</td>\n",
       "      <td>[95, 95, 95]</td>\n",
       "      <td>nan</td>\n",
       "      <td>nan</td>\n",
       "      <td>nan</td>\n",
       "      <td>nan</td>\n",
       "    </tr>\n",
       "    <tr>\n",
       "      <th>13</th>\n",
       "      <td>[-96, -96, -96]</td>\n",
       "      <td>[96, 96, 96]</td>\n",
       "      <td>nan</td>\n",
       "      <td>nan</td>\n",
       "      <td>nan</td>\n",
       "      <td>nan</td>\n",
       "    </tr>\n",
       "    <tr>\n",
       "      <th>14</th>\n",
       "      <td>[-97, -97, -97]</td>\n",
       "      <td>[97, 97, 97]</td>\n",
       "      <td>nan</td>\n",
       "      <td>nan</td>\n",
       "      <td>nan</td>\n",
       "      <td>nan</td>\n",
       "    </tr>\n",
       "    <tr>\n",
       "      <th>15</th>\n",
       "      <td>[-98, -98, -98]</td>\n",
       "      <td>[98, 98, 98]</td>\n",
       "      <td>nan</td>\n",
       "      <td>nan</td>\n",
       "      <td>nan</td>\n",
       "      <td>nan</td>\n",
       "    </tr>\n",
       "    <tr>\n",
       "      <th>16</th>\n",
       "      <td>[-99, -99, -99]</td>\n",
       "      <td>[99, 99, 99]</td>\n",
       "      <td>2</td>\n",
       "      <td>2</td>\n",
       "      <td>10</td>\n",
       "      <td>nan</td>\n",
       "    </tr>\n",
       "    <tr>\n",
       "      <th>17</th>\n",
       "      <td>[0, 0, 0]</td>\n",
       "      <td>[0, 0, 0]</td>\n",
       "      <td>1</td>\n",
       "      <td>3</td>\n",
       "      <td>10</td>\n",
       "      <td>nan</td>\n",
       "    </tr>\n",
       "    <tr>\n",
       "      <th>18</th>\n",
       "      <td>[nan, nan, nan]</td>\n",
       "      <td>[0, 0, 0]</td>\n",
       "      <td>1</td>\n",
       "      <td>3</td>\n",
       "      <td>10</td>\n",
       "      <td>nan</td>\n",
       "    </tr>\n",
       "    <tr>\n",
       "      <th>19</th>\n",
       "      <td>[1, 2, 3]</td>\n",
       "      <td>[0, 0, 0]</td>\n",
       "      <td>1</td>\n",
       "      <td>3</td>\n",
       "      <td>10</td>\n",
       "      <td>5</td>\n",
       "    </tr>\n",
       "  </tbody>\n",
       "</table>\n",
       "</div>"
      ],
      "text/plain": [
       "        observation        action jopa jopa2 jopa3 jopa4\n",
       "0   [-83, -83, -83]  [83, 83, 83]  nan   nan   nan   nan\n",
       "1   [-84, -84, -84]  [84, 84, 84]  nan   nan   nan   nan\n",
       "2   [-85, -85, -85]  [85, 85, 85]  nan   nan   nan   nan\n",
       "3   [-86, -86, -86]  [86, 86, 86]  nan   nan   nan   nan\n",
       "4   [-87, -87, -87]  [87, 87, 87]  nan   nan   nan   nan\n",
       "5   [-88, -88, -88]  [88, 88, 88]  nan   nan   nan   nan\n",
       "6   [-89, -89, -89]  [89, 89, 89]  nan   nan   nan   nan\n",
       "7   [-90, -90, -90]  [90, 90, 90]  nan   nan   nan   nan\n",
       "8   [-91, -91, -91]  [91, 91, 91]  nan   nan   nan   nan\n",
       "9   [-92, -92, -92]  [92, 92, 92]  nan   nan   nan   nan\n",
       "10  [-93, -93, -93]  [93, 93, 93]  nan   nan   nan   nan\n",
       "11  [-94, -94, -94]  [94, 94, 94]  nan   nan   nan   nan\n",
       "12  [-95, -95, -95]  [95, 95, 95]  nan   nan   nan   nan\n",
       "13  [-96, -96, -96]  [96, 96, 96]  nan   nan   nan   nan\n",
       "14  [-97, -97, -97]  [97, 97, 97]  nan   nan   nan   nan\n",
       "15  [-98, -98, -98]  [98, 98, 98]  nan   nan   nan   nan\n",
       "16  [-99, -99, -99]  [99, 99, 99]    2     2    10   nan\n",
       "17        [0, 0, 0]     [0, 0, 0]    1     3    10   nan\n",
       "18  [nan, nan, nan]     [0, 0, 0]    1     3    10   nan\n",
       "19        [1, 2, 3]     [0, 0, 0]    1     3    10     5"
      ]
     },
     "execution_count": 22,
     "metadata": {},
     "output_type": "execute_result"
    }
   ],
   "source": [
    "data_buffer.to_pandas()"
   ]
  },
  {
   "cell_type": "code",
   "execution_count": 21,
   "metadata": {},
   "outputs": [],
   "source": [
    "data_buffer.push_to_end(observation=[1, 2, 3])"
   ]
  },
  {
   "cell_type": "code",
   "execution_count": 8,
   "metadata": {},
   "outputs": [
    {
     "data": {
      "text/plain": [
       "{'observation': array([-9223372036854775808, -9223372036854775808, -9223372036854775808]),\n",
       " 'action': array([-9223372036854775808, -9223372036854775808, -9223372036854775808]),\n",
       " 'jopa': [2]}"
      ]
     },
     "execution_count": 8,
     "metadata": {},
     "output_type": "execute_result"
    }
   ],
   "source": [
    "data_buffer[-1][\"observation\"]"
   ]
  },
  {
   "cell_type": "code",
   "execution_count": 18,
   "metadata": {},
   "outputs": [
    {
     "data": {
      "text/plain": [
       "True"
      ]
     },
     "execution_count": 18,
     "metadata": {},
     "output_type": "execute_result"
    }
   ],
   "source": [
    "np.isnan(np.full_like(np.array([10, 1]), fill_value=np.nan, dtype=float)[0])"
   ]
  },
  {
   "cell_type": "code",
   "execution_count": 19,
   "metadata": {},
   "outputs": [
    {
     "data": {
      "text/plain": [
       "array([nan, nan])"
      ]
     },
     "execution_count": 19,
     "metadata": {},
     "output_type": "execute_result"
    }
   ],
   "source": [
    "np.full_like(np.array([10, 1]), fill_value=np.nan, dtype=float)"
   ]
  },
  {
   "cell_type": "code",
   "execution_count": null,
   "metadata": {},
   "outputs": [],
   "source": []
  }
 ],
 "metadata": {
  "kernelspec": {
   "display_name": "rcenv",
   "language": "python",
   "name": "python3"
  },
  "language_info": {
   "codemirror_mode": {
    "name": "ipython",
    "version": 3
   },
   "file_extension": ".py",
   "mimetype": "text/x-python",
   "name": "python",
   "nbconvert_exporter": "python",
   "pygments_lexer": "ipython3",
   "version": "3.10.9"
  },
  "orig_nbformat": 4
 },
 "nbformat": 4,
 "nbformat_minor": 2
}
