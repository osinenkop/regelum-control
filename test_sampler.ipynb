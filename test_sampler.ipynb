{
 "cells": [
  {
   "cell_type": "code",
   "execution_count": null,
   "metadata": {},
   "outputs": [],
   "source": [
    "from regelum.data_buffers.data_buffer import DataBuffer\n",
    "from regelum.data_buffers.batch_sampler import RollingBatchSampler\n",
    "from regelum.system import InvertedPendulumPD\n",
    "import numpy as np\n",
    "import torch\n",
    "import casadi as cs\n",
    "from regelum.model import ModelQuadLin, Model\n",
    "from regelum.__utilities import rc\n",
    "from typing import Union\n",
    "import regelum as rg\n",
    "from regelum.system import ThreeWheeledRobotNI\n",
    "import pprint\n",
    "from regelum.predictor import EulerPredictor"
   ]
  },
  {
   "cell_type": "code",
   "execution_count": null,
   "metadata": {},
   "outputs": [],
   "source": [
    "data_buffer = DataBuffer(20)\n",
    "pp = pprint.PrettyPrinter(depth=3)\n",
    "\n",
    "for batch in data_buffer.iter_batches(\n",
    "    batch_size=4,\n",
    "    n_batches=2,\n",
    "    keys=[\"observation\", \"action\"],\n",
    "    mode=\"backward\",\n",
    "    dtype=cs.DM,\n",
    "):\n",
    "    print(\"\\nPrinting batch\")\n",
    "    print(\n",
    "        \"Action shape:\",\n",
    "        batch[\"action\"].shape,\n",
    "        \"| Observation shape: \",\n",
    "        batch[\"observation\"].shape,\n",
    "    )\n",
    "    pp.pprint(batch)"
   ]
  },
  {
   "cell_type": "code",
   "execution_count": null,
   "metadata": {},
   "outputs": [],
   "source": [
    "class TestOpt(rg.Optimizable):\n",
    "    def __init__(self, opt_config):\n",
    "        super().__init__(opt_config)\n",
    "        self.create_variable(\"\")"
   ]
  },
  {
   "cell_type": "code",
   "execution_count": 23,
   "metadata": {},
   "outputs": [
    {
     "data": {
      "text/plain": [
       "DM([[4.92902, 5.07044, 2.36]])"
      ]
     },
     "execution_count": 23,
     "metadata": {},
     "output_type": "execute_result"
    }
   ],
   "source": [
    "pr = EulerPredictor(ThreeWheeledRobotNI(), 0.01, 1)\n",
    "x1 = rc.DM([[5.0, 5.0, 2.36]])\n",
    "acts = rc.DM([[10.0, 0.0]])\n",
    "\n",
    "x2 = pr.predict_sequence(x1, acts)\n",
    "x2"
   ]
  },
  {
   "cell_type": "code",
   "execution_count": null,
   "metadata": {},
   "outputs": [],
   "source": []
  },
  {
   "cell_type": "code",
   "execution_count": null,
   "metadata": {},
   "outputs": [],
   "source": [
    "ModelQuadLin(quad_matrix_type=\"diaginal\", weights=np.array([1, 10, 1, 0, 0]))"
   ]
  },
  {
   "cell_type": "code",
   "execution_count": null,
   "metadata": {},
   "outputs": [],
   "source": []
  }
 ],
 "metadata": {
  "kernelspec": {
   "display_name": "rcenv",
   "language": "python",
   "name": "python3"
  },
  "language_info": {
   "codemirror_mode": {
    "name": "ipython",
    "version": 3
   },
   "file_extension": ".py",
   "mimetype": "text/x-python",
   "name": "python",
   "nbconvert_exporter": "python",
   "pygments_lexer": "ipython3",
   "version": "3.9.16"
  },
  "orig_nbformat": 4
 },
 "nbformat": 4,
 "nbformat_minor": 2
}
