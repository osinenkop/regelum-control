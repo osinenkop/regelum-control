{
 "cells": [
  {
   "cell_type": "code",
   "execution_count": null,
   "metadata": {},
   "outputs": [],
   "source": [
    "from regelum.data_buffers.data_buffer import DataBuffer\n",
    "from regelum.data_buffers.batch_sampler import RollingBatchSampler\n",
    "from regelum.system import InvertedPendulumPD\n",
    "import numpy as np\n",
    "import torch\n",
    "import casadi as cs\n",
    "from regelum.model import ModelQuadLin, Model\n",
    "from regelum.__utilities import rc\n",
    "from typing import Union\n",
    "import regelum as rg\n",
    "from regelum.system import ThreeWheeledRobotNI\n",
    "import pprint\n",
    "from regelum.predictor import EulerPredictor"
   ]
  },
  {
   "cell_type": "code",
   "execution_count": 5,
   "metadata": {},
   "outputs": [
    {
     "data": {
      "text/plain": [
       "DM(\n",
       "[[1, 9], \n",
       " [0, 4]])"
      ]
     },
     "execution_count": 5,
     "metadata": {},
     "output_type": "execute_result"
    }
   ],
   "source": [
    "import casadi as cs\n",
    "import numpy as np\n",
    "import torch\n",
    "\n",
    "backend = cs.DM\n",
    "\n",
    "\n",
    "(backend([[1, 1], [2, 2]]).T - backend([[2], [4]])).T ** 2"
   ]
  },
  {
   "cell_type": "code",
   "execution_count": 1,
   "metadata": {},
   "outputs": [],
   "source": [
    "import casadi as cs\n",
    "import numpy as np\n",
    "import torch\n",
    "\n",
    "from regelum.constraint import EllipseConstraint, LinearConstraint"
   ]
  },
  {
   "cell_type": "code",
   "execution_count": 2,
   "metadata": {},
   "outputs": [],
   "source": [
    "constraint1 = EllipseConstraint(coefs=[1, 1, 0], centers=[1, 1, 0], radius=1)\n",
    "constraint2 = EllipseConstraint(coefs=[2, 2, 0], centers=[0, 0, 0], radius=3)\n",
    "\n",
    "constraint = constraint1 + constraint2"
   ]
  },
  {
   "cell_type": "code",
   "execution_count": 12,
   "metadata": {},
   "outputs": [
    {
     "data": {
      "text/plain": [
       "DM(-0.5)"
      ]
     },
     "execution_count": 12,
     "metadata": {},
     "output_type": "execute_result"
    }
   ],
   "source": [
    "constraint = LinearConstraint([0, 1, 0], bias=-1) * LinearConstraint(\n",
    "    [0, -1, 0], bias=-1\n",
    ")\n",
    "\n",
    "constraint(cs.DM([[0, -0.5, 0]]))"
   ]
  },
  {
   "cell_type": "code",
   "execution_count": 3,
   "metadata": {},
   "outputs": [
    {
     "data": {
      "text/plain": [
       "MX(min(vertcat(max((ones(2x1)-mac(sq((x'-repmat([1, 1, 0], 2))'),[1, 1, 0],zeros(2x1)))), max((all_9(2x1)-mac(sq((x'-repmat(zeros(3x1), 2))'),[2, 2, 0],zeros(2x1)))))))"
      ]
     },
     "execution_count": 3,
     "metadata": {},
     "output_type": "execute_result"
    }
   ],
   "source": [
    "constraint(cs.MX.sym(\"x\", 2, 3))"
   ]
  },
  {
   "cell_type": "code",
   "execution_count": null,
   "metadata": {},
   "outputs": [],
   "source": [
    "np.array([])"
   ]
  },
  {
   "cell_type": "code",
   "execution_count": null,
   "metadata": {},
   "outputs": [],
   "source": [
    "data_buffer = DataBuffer(20)\n",
    "pp = pprint.PrettyPrinter(depth=3)\n",
    "\n",
    "for batch in data_buffer.iter_batches(\n",
    "    batch_size=4,\n",
    "    n_batches=2,\n",
    "    keys=[\"observation\", \"action\"],\n",
    "    mode=\"backward\",\n",
    "    dtype=cs.DM,\n",
    "):\n",
    "    print(\"\\nPrinting batch\")\n",
    "    print(\n",
    "        \"Action shape:\",\n",
    "        batch[\"action\"].shape,\n",
    "        \"| Observation shape: \",\n",
    "        batch[\"observation\"].shape,\n",
    "    )\n",
    "    pp.pprint(batch)"
   ]
  },
  {
   "cell_type": "code",
   "execution_count": null,
   "metadata": {},
   "outputs": [],
   "source": [
    "class TestOpt(rg.Optimizable):\n",
    "    def __init__(self, opt_config):\n",
    "        super().__init__(opt_config)\n",
    "        self.create_variable(\"\")"
   ]
  },
  {
   "cell_type": "code",
   "execution_count": 23,
   "metadata": {},
   "outputs": [
    {
     "data": {
      "text/plain": [
       "DM([[4.92902, 5.07044, 2.36]])"
      ]
     },
     "execution_count": 23,
     "metadata": {},
     "output_type": "execute_result"
    }
   ],
   "source": [
    "pr = EulerPredictor(ThreeWheeledRobotNI(), 0.01, 1)\n",
    "x1 = rc.DM([[5.0, 5.0, 2.36]])\n",
    "acts = rc.DM([[10.0, 0.0]])\n",
    "\n",
    "x2 = pr.predict_sequence(x1, acts)\n",
    "x2"
   ]
  },
  {
   "cell_type": "code",
   "execution_count": null,
   "metadata": {},
   "outputs": [],
   "source": []
  },
  {
   "cell_type": "code",
   "execution_count": null,
   "metadata": {},
   "outputs": [],
   "source": [
    "ModelQuadLin(quad_matrix_type=\"diaginal\", weights=np.array([1, 10, 1, 0, 0]))"
   ]
  },
  {
   "cell_type": "code",
   "execution_count": 13,
   "metadata": {},
   "outputs": [],
   "source": [
    "from regelum import FunctionWithSignature, VarContainer, Optimizable\n",
    "from regelum.optimizable.core.configs import casadi_default_config"
   ]
  },
  {
   "cell_type": "code",
   "execution_count": 14,
   "metadata": {},
   "outputs": [],
   "source": [
    "def f(x, y):\n",
    "    return x + y"
   ]
  },
  {
   "cell_type": "code",
   "execution_count": 31,
   "metadata": {},
   "outputs": [],
   "source": [
    "f_signed = FunctionWithSignature(f)"
   ]
  },
  {
   "cell_type": "code",
   "execution_count": 20,
   "metadata": {},
   "outputs": [],
   "source": [
    "opt = Optimizable(casadi_default_config)\n",
    "x_var = opt.create_variable(1, 1, name=\"x\")"
   ]
  },
  {
   "cell_type": "code",
   "execution_count": 27,
   "metadata": {},
   "outputs": [
    {
     "data": {
      "text/plain": [
       "OptimizationVariable(name='x', dims=(1, 1), data=None, metadata=MX(opti4_x_1), is_constant=True, hooks=<regelum.optimizable.core.entities.ChainedHook object at 0x7f6e1d350e50>)"
      ]
     },
     "execution_count": 27,
     "metadata": {},
     "output_type": "execute_result"
    }
   ],
   "source": [
    "x_var.as_constant()"
   ]
  },
  {
   "cell_type": "code",
   "execution_count": 28,
   "metadata": {},
   "outputs": [
    {
     "data": {
      "text/plain": [
       "True"
      ]
     },
     "execution_count": 28,
     "metadata": {},
     "output_type": "execute_result"
    }
   ],
   "source": [
    "x_var.is_constant"
   ]
  },
  {
   "cell_type": "code",
   "execution_count": 32,
   "metadata": {},
   "outputs": [
    {
     "data": {
      "text/plain": [
       "FunctionWithSignature(func=<function f at 0x7f6e1d2fdee0>, variables=VarContainer:\n",
       "  x\n",
       "  data: None\n",
       "  metadata: opti4_x_1\n",
       "  dims: (1, 1)\n",
       "  is_constant: True\n",
       "\n",
       "\n",
       "  , is_objective=False, metadata=None)"
      ]
     },
     "execution_count": 32,
     "metadata": {},
     "output_type": "execute_result"
    }
   ],
   "source": [
    "f_signed.declare_variables(x_var)"
   ]
  },
  {
   "cell_type": "code",
   "execution_count": 34,
   "metadata": {},
   "outputs": [
    {
     "data": {
      "text/plain": [
       "['x']"
      ]
     },
     "execution_count": 34,
     "metadata": {},
     "output_type": "execute_result"
    }
   ],
   "source": [
    "f_signed.constants_to_substitute"
   ]
  },
  {
   "cell_type": "code",
   "execution_count": 36,
   "metadata": {},
   "outputs": [],
   "source": [
    "f_signed.set_parameters(x=1)"
   ]
  },
  {
   "cell_type": "code",
   "execution_count": 38,
   "metadata": {},
   "outputs": [
    {
     "data": {
      "text/plain": [
       "3"
      ]
     },
     "execution_count": 38,
     "metadata": {},
     "output_type": "execute_result"
    }
   ],
   "source": [
    "f_signed(y=2)"
   ]
  },
  {
   "cell_type": "code",
   "execution_count": null,
   "metadata": {},
   "outputs": [],
   "source": [
    "from __future__ import annotations\n",
    "from abc import ABC, abstractmethod\n",
    "from typing import Any\n",
    "from typing import List, Union\n",
    "from typing_extensions import Self\n",
    "from regelum import RegelumBase\n",
    "from regelum.__utilities import rc\n",
    "\n",
    "\n",
    "class Constraint(RegelumBase, ABC):\n",
    "    @abstractmethod\n",
    "    def __call__(self, observation) -> Any:\n",
    "        pass\n",
    "\n",
    "    def __add__(self, right: Union[Self, ComposedConstraint]):\n",
    "        return ComposedConstraint(constraints=[self, right])\n",
    "\n",
    "    def __mul__(self, right: Union[Self, ComposedConstraint]):\n",
    "        return ComposedConstraint(constraints=[self, right], is_union=False)\n",
    "\n",
    "\n",
    "class LinearConstraint(Constraint):\n",
    "    def __init__(self, weights, bias) -> None:\n",
    "        self.weights = weights\n",
    "        self.bias = bias\n",
    "\n",
    "    def __call__(self, state) -> Any:\n",
    "        weights_col = rc.force_column(rc.array(self.weights, prototype=state))\n",
    "        return rc.max(state @ weights_col + self.bias)\n",
    "\n",
    "\n",
    "class EllipseConstraint(Constraint):\n",
    "    def __init__(self, coefs, centers, radius) -> None:\n",
    "        self.coefs = coefs\n",
    "        self.centers = centers\n",
    "        self.radius = radius\n",
    "\n",
    "    def __call__(self, state, coefs, centers, radius) -> Any:\n",
    "        centers_column = rc.force_column(rc.array(self.centers, prototype=state))\n",
    "        coefs_column = rc.force_column(rc.array(self.coefs, prototype=state))\n",
    "        return rc.max(\n",
    "            self.radius**2 - (state.T - centers_column).T ** 2 @ coefs_column\n",
    "        )\n",
    "\n",
    "\n",
    "class ComposedConstraint(Constraint):\n",
    "    def __init__(self, constraints: List[Constraint], is_union=True):\n",
    "        self.constraints = constraints\n",
    "        self.is_union = is_union\n",
    "\n",
    "    def __call__(self, state) -> Any:\n",
    "        violations = rc.vstack([constraint(state) for constraint in self.constraints])\n",
    "        return rc.min(violations) if self.is_union else rc.max(violations)\n",
    "\n",
    "    def __add__(self, right: Union[Constraint, Self]):\n",
    "        return ComposedConstraint(constraints=[self, right])\n",
    "\n",
    "    def __mul__(self, right: Union[Constraint, Self]):\n",
    "        return ComposedConstraint(constraints=[self, right], is_union=False)\n",
    "\n",
    "        for k, v in self.variables.to_data_dict().items():\n",
    "            if k not in parameters.keys() and self.variables[k].data is not None:\n",
    "                if self.variables[k].is_constant:\n",
    "                    self.__opti.set_value(self.variables[k](with_metadata=True), v)\n",
    "                else:\n",
    "                    self.__opti.set_initial(self.variables[k](with_metadata=True), v)"
   ]
  }
 ],
 "metadata": {
  "kernelspec": {
   "display_name": "rcenv",
   "language": "python",
   "name": "python3"
  },
  "language_info": {
   "codemirror_mode": {
    "name": "ipython",
    "version": 3
   },
   "file_extension": ".py",
   "mimetype": "text/x-python",
   "name": "python",
   "nbconvert_exporter": "python",
   "pygments_lexer": "ipython3",
   "version": "3.11.4"
  },
  "orig_nbformat": 4
 },
 "nbformat": 4,
 "nbformat_minor": 2
}
