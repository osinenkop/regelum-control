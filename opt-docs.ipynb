{
 "cells": [
  {
   "cell_type": "code",
   "execution_count": 1,
   "metadata": {},
   "outputs": [],
   "source": [
    "from regelum import Optimizable\n",
    "import torch as th\n",
    "from torch.optim import Adam\n",
    "import casadi as cs\n",
    "import numpy as np\n",
    "from regelum.optimizable.core.configs import torch_default_config, casadi_default_config\n",
    "from regelum.__utilities import rc"
   ]
  },
  {
   "cell_type": "markdown",
   "metadata": {},
   "source": [
    "Torch optimization"
   ]
  },
  {
   "cell_type": "code",
   "execution_count": 2,
   "metadata": {},
   "outputs": [
    {
     "data": {
      "text/plain": [
       "tensor([-2.5223e-44,  0.0000e+00], requires_grad=True)"
      ]
     },
     "execution_count": 2,
     "metadata": {},
     "output_type": "execute_result"
    }
   ],
   "source": [
    "def objective_torch(x, y):\n",
    "    return (x**2 + y**2).sum()\n",
    "\n",
    "\n",
    "x = th.Tensor([1.0, 2.0]).requires_grad_(True)\n",
    "opt_torch = Adam(params=[x], lr=0.1)\n",
    "\n",
    "for _ in range(5000):\n",
    "    opt_torch.zero_grad()\n",
    "    obj = objective_torch(th.Tensor([1.0, 2.0]), x)\n",
    "    obj.backward()\n",
    "    opt_torch.step()\n",
    "\n",
    "x"
   ]
  },
  {
   "cell_type": "markdown",
   "metadata": {},
   "source": [
    "Casadi optimization"
   ]
  },
  {
   "cell_type": "code",
   "execution_count": 3,
   "metadata": {},
   "outputs": [
    {
     "name": "stdout",
     "output_type": "stream",
     "text": [
      "\n",
      "******************************************************************************\n",
      "This program contains Ipopt, a library for large-scale nonlinear optimization.\n",
      " Ipopt is released as open source code under the Eclipse Public License (EPL).\n",
      "         For more information visit https://github.com/coin-or/Ipopt\n",
      "******************************************************************************\n",
      "\n",
      "      solver  :   t_proc      (avg)   t_wall      (avg)    n_eval\n",
      "       nlp_f  |  16.00us ( 16.00us) 952.00ns (952.00ns)         1\n",
      "  nlp_grad_f  |  87.00us ( 43.50us)   5.20us (  2.60us)         2\n",
      "       total  |  11.88ms ( 11.88ms) 739.47us (739.47us)         1\n"
     ]
    },
    {
     "data": {
      "text/plain": [
       "(DM([0, 0]), DM(5))"
      ]
     },
     "execution_count": 3,
     "metadata": {},
     "output_type": "execute_result"
    }
   ],
   "source": [
    "def objective_casadi(x, y):\n",
    "    return cs.sumsqr(x) + cs.sumsqr(y)\n",
    "\n",
    "\n",
    "opti = cs.Opti()\n",
    "x = opti.parameter(2)\n",
    "y = opti.variable(2)\n",
    "objective_symb = objective_casadi(x, y)\n",
    "opti.minimize(objective_symb)\n",
    "opti.solver(\n",
    "    \"ipopt\",\n",
    "    {\"print_in\": False, \"print_out\": False, \"print_time\": True},\n",
    "    {\"print_level\": 0},\n",
    ")\n",
    "opt_func = opti.to_function(\n",
    "    \"min_fun\", [x], [y, objective_symb], [\"x\"], [\"y\", \"objective_casadi\"]\n",
    ")\n",
    "opt_func(cs.DM([1.0, 2.0]))"
   ]
  },
  {
   "cell_type": "markdown",
   "metadata": {},
   "source": [
    "Regelum optimization"
   ]
  },
  {
   "cell_type": "code",
   "execution_count": 4,
   "metadata": {},
   "outputs": [],
   "source": [
    "def universal_objective(x, y):\n",
    "    return rc.sum(x**2 + (y - 1) ** 2)"
   ]
  },
  {
   "cell_type": "code",
   "execution_count": 5,
   "metadata": {},
   "outputs": [
    {
     "name": "stdout",
     "output_type": "stream",
     "text": [
      "      solver  :   t_proc      (avg)   t_wall      (avg)    n_eval\n",
      "       nlp_f  |  65.00us ( 32.50us)   3.87us (  1.93us)         2\n",
      "  nlp_grad_f  | 110.00us ( 36.67us)   6.74us (  2.25us)         3\n",
      "  nlp_hess_l  |  28.00us ( 28.00us)   1.63us (  1.63us)         1\n",
      "       total  |  12.66ms ( 12.66ms) 790.92us (790.92us)         1\n"
     ]
    },
    {
     "data": {
      "text/plain": [
       "{'y': DM([1, 1])}"
      ]
     },
     "execution_count": 5,
     "metadata": {},
     "output_type": "execute_result"
    }
   ],
   "source": [
    "opt_regelum = Optimizable(casadi_default_config)\n",
    "x = opt_regelum.create_variable(2, 1, name=\"x\", is_constant=True)\n",
    "y = opt_regelum.create_variable(2, 1, name=\"y\")\n",
    "opt_regelum.register_objective(universal_objective, [x, y])\n",
    "opt_regelum.optimize(x=cs.DM([1.0, 2.0]))"
   ]
  },
  {
   "cell_type": "code",
   "execution_count": 6,
   "metadata": {},
   "outputs": [
    {
     "data": {
      "text/plain": [
       "VarContainer:\n",
       "  y\n",
       "  data: tensor([1.0000, 1.0000], requires_grad=True)\n",
       "  metadata: tensor([1.0000, 1.0000], requires_grad=True)\n",
       "  dims: (2, 1)\n",
       "  is_constant: False\n",
       "\n",
       "\n",
       "  "
      ]
     },
     "execution_count": 6,
     "metadata": {},
     "output_type": "execute_result"
    }
   ],
   "source": [
    "torch_default_config.config_options[\"n_epochs\"] = 10000\n",
    "opt_regelum = Optimizable(torch_default_config)\n",
    "x = opt_regelum.create_variable(2, 1, name=\"x\", is_constant=True)\n",
    "y = opt_regelum.create_variable(\n",
    "    2, 1, name=\"y\", like=th.Tensor([1.0, 2.0]).requires_grad_(True)\n",
    ")\n",
    "opt_regelum.register_objective(universal_objective, [x, y])\n",
    "opt_regelum.optimize(x=th.FloatTensor([1.0, 2.0]))"
   ]
  },
  {
   "cell_type": "markdown",
   "metadata": {},
   "source": [
    "Working with models"
   ]
  },
  {
   "cell_type": "code",
   "execution_count": 7,
   "metadata": {},
   "outputs": [],
   "source": [
    "from regelum.model import ModelWeightContainer, ModelWeightContainerTorch"
   ]
  },
  {
   "cell_type": "code",
   "execution_count": 8,
   "metadata": {},
   "outputs": [
    {
     "data": {
      "text/plain": [
       "DM([[1, 2]])"
      ]
     },
     "execution_count": 8,
     "metadata": {},
     "output_type": "execute_result"
    }
   ],
   "source": [
    "model = ModelWeightContainer(2, cs.DM([[1.0, 2.0], [3.0, 4.0]]))\n",
    "model(\"whatever\")"
   ]
  },
  {
   "cell_type": "code",
   "execution_count": 9,
   "metadata": {},
   "outputs": [],
   "source": [
    "model_torch = ModelWeightContainerTorch(2)"
   ]
  },
  {
   "cell_type": "code",
   "execution_count": 10,
   "metadata": {},
   "outputs": [
    {
     "data": {
      "text/plain": [
       "(DM(\n",
       " [[1, 2], \n",
       "  [3, 4]]),\n",
       " DM(\n",
       " [[1, 2], \n",
       "  [3, 4]]))"
      ]
     },
     "execution_count": 10,
     "metadata": {},
     "output_type": "execute_result"
    }
   ],
   "source": [
    "model.weights, model.cache.weights"
   ]
  },
  {
   "cell_type": "code",
   "execution_count": 11,
   "metadata": {},
   "outputs": [
    {
     "name": "stdout",
     "output_type": "stream",
     "text": [
      "      solver  :   t_proc      (avg)   t_wall      (avg)    n_eval\n",
      "       nlp_f  |   6.00us (  2.00us)   5.67us (  1.89us)         3\n",
      "  nlp_grad_f  |   8.00us (  2.00us)   7.54us (  1.88us)         4\n",
      "  nlp_hess_l  |   3.00us (  1.50us)   2.67us (  1.34us)         2\n",
      "       total  | 792.00us (792.00us) 790.91us (790.91us)         1\n"
     ]
    },
    {
     "data": {
      "text/plain": [
       "{'w': DM(\n",
       " [[1, 1], \n",
       "  [0, 0]])}"
      ]
     },
     "execution_count": 11,
     "metadata": {},
     "output_type": "execute_result"
    }
   ],
   "source": [
    "opt_regelum = Optimizable(casadi_default_config)\n",
    "x = opt_regelum.create_variable(1, 2, name=\"x\", is_constant=True)\n",
    "w = opt_regelum.create_variable(name=\"w\", like=model.named_parameters)\n",
    "argin_to_model = opt_regelum.create_variable(\n",
    "    1, 2, name=\"argi_to_model\", is_constant=True\n",
    ")\n",
    "y = opt_regelum.create_variable(1, 2, name=\"y\", is_nested_function=True)\n",
    "opt_regelum.connect_source(connect_to=y, func=model, source=argin_to_model, weights=w)\n",
    "opt_regelum.register_objective(universal_objective, [x, y])\n",
    "opt_regelum.optimize(x=cs.DM([1.0, 2.0]), y=cs.DM([1.0, 2.0]))"
   ]
  },
  {
   "cell_type": "code",
   "execution_count": 12,
   "metadata": {},
   "outputs": [
    {
     "data": {
      "text/plain": [
       "VarContainer:\n",
       "  w\n",
       "  data: <bound method Module.named_parameters of ModelWeightContainerTorch()>\n",
       "  metadata: <bound method Module.named_parameters of ModelWeightContainerTorch()>\n",
       "  dims: ()\n",
       "  is_constant: False\n",
       "\n",
       "\n",
       "  y\n",
       "  data: tensor([1.0000, 1.0000], grad_fn=<SliceBackward0>)\n",
       "  metadata: tensor([1.0000, 1.0000], grad_fn=<SliceBackward0>)\n",
       "  dims: (1, 2)\n",
       "  is_constant: False\n",
       "\n",
       "\n",
       "  "
      ]
     },
     "execution_count": 12,
     "metadata": {},
     "output_type": "execute_result"
    }
   ],
   "source": [
    "opt_regelum = Optimizable(torch_default_config)\n",
    "x = opt_regelum.create_variable(1, 2, name=\"x\", is_constant=True)\n",
    "w = opt_regelum.create_variable(name=\"w\", like=model_torch.named_parameters)\n",
    "argin_to_model = opt_regelum.create_variable(\n",
    "    1, 2, name=\"argi_to_model\", is_constant=True, like=th.FloatTensor([1.0, 2.0])\n",
    ")\n",
    "y = opt_regelum.create_variable(1, 2, name=\"y\", is_nested_function=True)\n",
    "opt_regelum.connect_source(\n",
    "    connect_to=y, func=model_torch, source=argin_to_model, weights=w\n",
    ")\n",
    "opt_regelum.register_objective(universal_objective, [x, y])\n",
    "opt_regelum.optimize(x=th.FloatTensor([1.0, 2.0]))"
   ]
  },
  {
   "cell_type": "markdown",
   "metadata": {},
   "source": [
    "Inherit from `Optimizable`"
   ]
  },
  {
   "cell_type": "code",
   "execution_count": 13,
   "metadata": {},
   "outputs": [],
   "source": [
    "from regelum.model import ModelPerceptron, ModelQuadLin"
   ]
  },
  {
   "cell_type": "code",
   "execution_count": 49,
   "metadata": {},
   "outputs": [],
   "source": [
    "class MyOptimizableObject(Optimizable):\n",
    "    def __init__(self, model, opt_config):\n",
    "        super().__init__(opt_config)\n",
    "        self.model = model\n",
    "        self.initialize_optimization_procedure()\n",
    "\n",
    "    def initialize_optimization_procedure(self):\n",
    "        self.model_weights = self.create_variable(\n",
    "            name=\"model_weights\",\n",
    "            like=self.model.named_parameters,\n",
    "        )\n",
    "        self.model_argin = self.create_variable(\n",
    "            3, 2, name=\"model_argin\", is_constant=True\n",
    "        )\n",
    "        self.model_output_reference = self.create_variable(\n",
    "            3, 1, name=\"model_output_reference\", is_constant=True\n",
    "        )\n",
    "        self.model_output = self.create_variable(\n",
    "            name=\"model_output\", is_nested_function=True\n",
    "        )\n",
    "        self.connect_source(\n",
    "            connect_to=self.model_output,\n",
    "            func=self.model,\n",
    "            source=self.model_argin,\n",
    "            weights=self.model_weights,\n",
    "        )\n",
    "        self.register_objective(\n",
    "            self.objective_function, [self.model_output, self.model_output_reference]\n",
    "        )\n",
    "\n",
    "    def objective_function(self, model_output_reference, model_output):\n",
    "        return rc.sum((model_output_reference - model_output) ** 2)"
   ]
  },
  {
   "cell_type": "code",
   "execution_count": 50,
   "metadata": {},
   "outputs": [],
   "source": [
    "model = ModelPerceptron(2, 1, 3, 3)"
   ]
  },
  {
   "cell_type": "code",
   "execution_count": 51,
   "metadata": {},
   "outputs": [],
   "source": [
    "torch_default_config.config_options[\"n_epochs\"] = 10000\n",
    "optbl = MyOptimizableObject(model, torch_default_config)"
   ]
  },
  {
   "cell_type": "code",
   "execution_count": 52,
   "metadata": {},
   "outputs": [
    {
     "data": {
      "text/plain": [
       "VarContainer:\n",
       "  model_weights\n",
       "  data: <bound method Module.named_parameters of ModelPerceptron(\n",
       "  (input_layer): Linear(in_features=2, out_features=3, bias=True)\n",
       "  (hidden_layers): ModuleList(\n",
       "    (0-2): 3 x Linear(in_features=3, out_features=3, bias=True)\n",
       "  )\n",
       "  (output_layer): Linear(in_features=3, out_features=1, bias=True)\n",
       ")>\n",
       "  metadata: <bound method Module.named_parameters of ModelPerceptron(\n",
       "  (input_layer): Linear(in_features=2, out_features=3, bias=True)\n",
       "  (hidden_layers): ModuleList(\n",
       "    (0-2): 3 x Linear(in_features=3, out_features=3, bias=True)\n",
       "  )\n",
       "  (output_layer): Linear(in_features=3, out_features=1, bias=True)\n",
       ")>\n",
       "  dims: ()\n",
       "  is_constant: False\n",
       "\n",
       "\n",
       "  model_output\n",
       "  data: tensor([[1.],\n",
       "        [3.],\n",
       "        [5.]], grad_fn=<AddmmBackward0>)\n",
       "  metadata: tensor([[1.],\n",
       "        [3.],\n",
       "        [5.]], grad_fn=<AddmmBackward0>)\n",
       "  dims: ()\n",
       "  is_constant: False\n",
       "\n",
       "\n",
       "  "
      ]
     },
     "execution_count": 52,
     "metadata": {},
     "output_type": "execute_result"
    }
   ],
   "source": [
    "optbl.optimize(\n",
    "    model_output_reference=th.FloatTensor([[1.0], [3], [5]]),\n",
    "    model_argin=th.FloatTensor([[0.0, 0.0], [1, 2], [3, 5]]),\n",
    ")"
   ]
  },
  {
   "cell_type": "code",
   "execution_count": 53,
   "metadata": {},
   "outputs": [
    {
     "data": {
      "text/plain": [
       "tensor([[1.],\n",
       "        [3.],\n",
       "        [5.]], grad_fn=<AddmmBackward0>)"
      ]
     },
     "execution_count": 53,
     "metadata": {},
     "output_type": "execute_result"
    }
   ],
   "source": [
    "optbl.model_output()"
   ]
  },
  {
   "cell_type": "code",
   "execution_count": 54,
   "metadata": {},
   "outputs": [],
   "source": [
    "model = ModelQuadLin(\"symmetric\", is_with_linear_terms=False, dim_inputs=2)"
   ]
  },
  {
   "cell_type": "code",
   "execution_count": 55,
   "metadata": {},
   "outputs": [],
   "source": [
    "optbl = MyOptimizableObject(model, casadi_default_config)"
   ]
  },
  {
   "cell_type": "code",
   "execution_count": 56,
   "metadata": {},
   "outputs": [
    {
     "name": "stdout",
     "output_type": "stream",
     "text": [
      "      solver  :   t_proc      (avg)   t_wall      (avg)    n_eval\n",
      "       nlp_f  |  23.00us (  5.75us)  20.75us (  5.19us)         4\n",
      "  nlp_grad_f  |  27.00us (  5.40us)  26.77us (  5.35us)         5\n",
      "  nlp_hess_l  |  21.00us (  7.00us)  21.18us (  7.06us)         3\n",
      "       total  |   2.04ms (  2.04ms)   2.02ms (  2.02ms)         1\n"
     ]
    }
   ],
   "source": [
    "new_weights = optbl.optimize(\n",
    "    model_output_reference=cs.DM([[1.0], [3], [5]]),\n",
    "    model_argin=cs.DM([[0.0, 0.0], [1, 2], [3, 5]]),\n",
    ")[\"model_weights\"]"
   ]
  },
  {
   "cell_type": "code",
   "execution_count": 59,
   "metadata": {},
   "outputs": [
    {
     "data": {
      "text/plain": [
       "DM([0, 3, 5])"
      ]
     },
     "execution_count": 59,
     "metadata": {},
     "output_type": "execute_result"
    }
   ],
   "source": [
    "model(cs.DM([[0.0, 0.0], [1, 2], [3, 5]]), weights=new_weights)"
   ]
  }
 ],
 "metadata": {
  "kernelspec": {
   "display_name": "rgenv-dev",
   "language": "python",
   "name": "python3"
  },
  "language_info": {
   "codemirror_mode": {
    "name": "ipython",
    "version": 3
   },
   "file_extension": ".py",
   "mimetype": "text/x-python",
   "name": "python",
   "nbconvert_exporter": "python",
   "pygments_lexer": "ipython3",
   "version": "3.9.16"
  },
  "orig_nbformat": 4
 },
 "nbformat": 4,
 "nbformat_minor": 2
}
