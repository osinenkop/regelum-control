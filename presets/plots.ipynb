{
 "cells": [
  {
   "cell_type": "code",
   "execution_count": 240,
   "metadata": {},
   "outputs": [],
   "source": [
    "import matplotlib.pyplot as plt\n",
    "import pandas as pd\n",
    "import numpy as np\n",
    "import json\n",
    "\n",
    "datafiles = [\"gor.h5\", \"Kolmogorov.h5\", \"aida.h5\", \"odinmaniac-ThinkPad-T14s-Gen-1.h5\"]\n",
    "\n",
    "experiments = pd.concat([pd.read_hdf(datafile) for datafile in datafiles], axis=0)\n",
    "experiments[\"seed\"].fillna(-100, inplace=True)\n",
    "experiments.dropna(inplace=True)\n",
    "experiments = experiments[experiments.valid_columns & experiments.valid_time_final]\n"
   ]
  },
  {
   "cell_type": "code",
   "execution_count": 241,
   "metadata": {},
   "outputs": [],
   "source": [
    "nominals = experiments[experiments.controller == \"calf_ex_post\"]\n",
    "nominals = nominals[nominals.finished_episodes == 1]\n",
    "\n",
    "safe_onlys = []\n",
    "for o in nominals.overrides:\n",
    "    parsed = json.loads(o)\n",
    "    if parsed.get(\"+controller.safe_only\") is not None:\n",
    "        safe_onlys.append(parsed.get(\"+controller.safe_only\") == \"True\")\n",
    "    else:\n",
    "        safe_onlys.append(False)\n",
    "\n",
    "nominals = nominals.loc[safe_onlys]\n",
    "nominals = (\n",
    "    nominals.groupby([\"controller\", \"system\", \"seed\"])[\"best_total_objective\"]\n",
    "    .max()\n",
    "    .groupby([\"controller\", \"system\"])\n",
    "    .median()\n",
    ")\n",
    "nominals = nominals.loc[\"calf_ex_post\"]"
   ]
  },
  {
   "cell_type": "code",
   "execution_count": 242,
   "metadata": {},
   "outputs": [
    {
     "data": {
      "text/plain": [
       "['mpc',\n",
       " 'rql',\n",
       " 'rpo',\n",
       " 'calf_ex_post',\n",
       " 'calf_predictive',\n",
       " 'dqn',\n",
       " 'ddqn',\n",
       " 'ddpg',\n",
       " 'acpg',\n",
       " 'sarsa',\n",
       " 'nominal']"
      ]
     },
     "execution_count": 242,
     "metadata": {},
     "output_type": "execute_result"
    }
   ],
   "source": [
    "[\n",
    "    \"mpc\",\n",
    "    \"rql\",\n",
    "    \"rpo\",\n",
    "    \"calf_ex_post\",\n",
    "    \"calf_predictive\",\n",
    "    \"dqn\",\n",
    "    \"ddqn\",\n",
    "    \"ddpg\",\n",
    "    \"acpg\",\n",
    "    \"sarsa\",\n",
    "    \"nominal\",\n",
    "]\n",
    "\n"
   ]
  },
  {
   "cell_type": "code",
   "execution_count": 243,
   "metadata": {},
   "outputs": [],
   "source": [
    "\n",
    "basic = [\"rql\", \"dqn\", \"ddqn\", \"ddpg\", \"acpg\", \"sarsa\", \"rpo\", \"calf_ex_post\", \"calf_predictive\"]\n",
    "finished_episodes_thr = 20\n",
    "\n",
    "def process_controllers(controllers, experiments, finished_episodes_thr=20):\n",
    "    aggregated = {}\n",
    "    for controller in controllers:\n",
    "        controller_experiments = experiments[\n",
    "            (experiments.controller == controller)\n",
    "            & (experiments.finished_episodes == finished_episodes_thr)\n",
    "        ]\n",
    "\n",
    "        ids = (\n",
    "            controller_experiments.groupby([\"system\", \"seed\"])[\"best_total_objective\"]\n",
    "            .idxmax()\n",
    "            .values\n",
    "        )\n",
    "        controller_experiments = controller_experiments.loc[ids].set_index(\"system\")\n",
    "        controller_systems = list(controller_experiments.index.unique())\n",
    "\n",
    "        item = {}\n",
    "        for s in controller_systems:\n",
    "            if isinstance(controller_experiments.loc[s].total_objectives, pd.DataFrame):\n",
    "                item[s] = controller_experiments.loc[s].total_objectives.set_index(\n",
    "                    \"episode\"\n",
    "                )\n",
    "            else:\n",
    "                item[s] = pd.concat(\n",
    "                    [\n",
    "                        v.set_index(\"episode\")\n",
    "                        for v in controller_experiments.loc[s].total_objectives.tolist()\n",
    "                    ],\n",
    "                    axis=1,\n",
    "                )\n",
    "        aggregated[controller] = item\n",
    "    \n",
    "    return aggregated\n",
    "    \n",
    "aggregated[\"calf\"] = aggregated[\"calf_ex_post\"] | aggregated[\"calf_predictive\"]\n",
    "aggregated[\"nominal\"] = nominals.to_dict()"
   ]
  },
  {
   "cell_type": "code",
   "execution_count": 258,
   "metadata": {},
   "outputs": [
    {
     "name": "stderr",
     "output_type": "stream",
     "text": [
      "/tmp/ipykernel_1404774/2907580490.py:2: SettingWithCopyWarning: \n",
      "A value is trying to be set on a copy of a slice from a DataFrame.\n",
      "Try using .loc[row_indexer,col_indexer] = value instead\n",
      "\n",
      "See the caveats in the documentation: https://pandas.pydata.org/pandas-docs/stable/user_guide/indexing.html#returning-a-view-versus-a-copy\n",
      "  mpc_experiments[\"horizon\"] = [\n",
      "/tmp/ipykernel_1404774/2907580490.py:6: SettingWithCopyWarning: \n",
      "A value is trying to be set on a copy of a slice from a DataFrame\n",
      "\n",
      "See the caveats in the documentation: https://pandas.pydata.org/pandas-docs/stable/user_guide/indexing.html#returning-a-view-versus-a-copy\n",
      "  mpc_experiments.dropna(inplace=True)\n",
      "/tmp/ipykernel_1404774/2907580490.py:7: SettingWithCopyWarning: \n",
      "A value is trying to be set on a copy of a slice from a DataFrame.\n",
      "Try using .loc[row_indexer,col_indexer] = value instead\n",
      "\n",
      "See the caveats in the documentation: https://pandas.pydata.org/pandas-docs/stable/user_guide/indexing.html#returning-a-view-versus-a-copy\n",
      "  mpc_experiments.controller = mpc_experiments.controller + \"N\" + mpc_experiments[\"horizon\"]\n"
     ]
    }
   ],
   "source": [
    "mpc_experiments = experiments[experiments.controller == \"mpc\"]\n",
    "mpc_experiments[\"horizon\"] = [\n",
    "    json.loads(o).get(\"controller.actor.predictor.prediction_horizon\")\n",
    "    for o in mpc_experiments.overrides\n",
    "]\n",
    "mpc_experiments.dropna(inplace=True)\n",
    "mpc_experiments.controller = mpc_experiments.controller + \"N\" + mpc_experiments[\"horizon\"]\n",
    "\n"
   ]
  },
  {
   "cell_type": "code",
   "execution_count": 255,
   "metadata": {},
   "outputs": [
    {
     "name": "stderr",
     "output_type": "stream",
     "text": [
      "/tmp/ipykernel_1404774/2494296728.py:1: SettingWithCopyWarning: \n",
      "A value is trying to be set on a copy of a slice from a DataFrame.\n",
      "Try using .loc[row_indexer,col_indexer] = value instead\n",
      "\n",
      "See the caveats in the documentation: https://pandas.pydata.org/pandas-docs/stable/user_guide/indexing.html#returning-a-view-versus-a-copy\n",
      "  mpc_experiments.controller = mpc_experiments.controller + mpc_experiments[\"horizon\"]\n"
     ]
    }
   ],
   "source": []
  },
  {
   "cell_type": "code",
   "execution_count": null,
   "metadata": {},
   "outputs": [],
   "source": [
    "systems = [\n",
    "    \"2tank\",\n",
    "    \"3wrobot_ni\",\n",
    "    \"3wrobot\",\n",
    "    \"cartpole\",\n",
    "    \"inv_pendulum\",\n",
    "    \"kin_point\",\n",
    "    \"lunar_lander\",\n",
    "]\n",
    "\n",
    "controller = \"rql\"\n",
    "system = \"lunar_lander\"\n",
    "for system in systems:\n",
    "    plt.plot(\n",
    "        pd.concat(\n",
    "            [\n",
    "                experiments.loc[controller, system, seed]\n",
    "                .total_objectives[0]\n",
    "                .set_index(\"episode\")\n",
    "                for seed in experiments.loc[controller, system].index\n",
    "            ],\n",
    "            axis=1,\n",
    "        ).mean(axis=1)\n",
    "    )\n",
    "    plt.title(f\"{controller} {system} mean\")\n",
    "    # plt.yscale(\"log\")\n",
    "    plt.grid()\n",
    "    plt.show()"
   ]
  },
  {
   "cell_type": "code",
   "execution_count": null,
   "metadata": {},
   "outputs": [],
   "source": [
    "systems = [\n",
    "    \"2tank\",\n",
    "    \"3wrobot_ni\",\n",
    "    \"3wrobot\",\n",
    "    \"cartpole\",\n",
    "    \"inv_pendulum\",\n",
    "    \"kin_point\",\n",
    "    \"lunar_lander\",\n",
    "]\n",
    "controllers = [\"dqn\", \"ddqn\", \"rql\", \"acpg\", \"ddpg\"]\n",
    "\n",
    "\n",
    "for system in systems:\n",
    "    for controller in controllers:\n",
    "        df = pd.concat(\n",
    "            [\n",
    "                experiments.loc[controller, system, seed]\n",
    "                .total_objectives[0]\n",
    "                .set_index(\"episode\")\n",
    "                for seed in experiments.loc[controller, system].index\n",
    "            ],\n",
    "            axis=1,\n",
    "        )\n",
    "        mean_controller_episodic_perfomance = df.mean(axis=1)\n",
    "\n",
    "        axes = plt.plot(mean_controller_episodic_perfomance)\n",
    "\n",
    "        ci = 95\n",
    "\n",
    "        low = np.percentile(df.values, 50 - ci / 2, axis=1)\n",
    "        high = np.percentile(df.values, 50 + ci / 2, axis=1)\n",
    "\n",
    "        plt.fill_between(df.index, low, high, color=\"r\", alpha=0.2)\n",
    "\n",
    "        axes.plot(df.index, df.values, color=\"r\", alpha=0.2)\n",
    "        df[\"mean_traj\"] = df.mean(axis=1)\n",
    "        axes.plot(\n",
    "            df.index,\n",
    "            df.mean_traj.values,\n",
    "            color=\"b\",\n",
    "            label=f\"mean {environment} Total objective\",\n",
    "        )\n",
    "    plt.title(f\"{controller} {system} mean\")\n",
    "    # plt.yscale(\"log\")\n",
    "    plt.grid()\n",
    "    plt.show()"
   ]
  }
 ],
 "metadata": {
  "kernelspec": {
   "display_name": "Python 3.9.16 ('env': venv)",
   "language": "python",
   "name": "python3"
  },
  "language_info": {
   "codemirror_mode": {
    "name": "ipython",
    "version": 3
   },
   "file_extension": ".py",
   "mimetype": "text/x-python",
   "name": "python",
   "nbconvert_exporter": "python",
   "pygments_lexer": "ipython3",
   "version": "3.9.16"
  },
  "orig_nbformat": 4,
  "vscode": {
   "interpreter": {
    "hash": "806356bcc1b53af0ee60e8d471acacb10dba6beea8ad771b129ff285be1a5240"
   }
  }
 },
 "nbformat": 4,
 "nbformat_minor": 2
}
